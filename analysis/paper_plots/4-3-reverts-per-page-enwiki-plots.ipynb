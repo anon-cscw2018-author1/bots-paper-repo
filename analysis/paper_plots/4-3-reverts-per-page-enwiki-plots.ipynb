{
 "cells": [
  {
   "cell_type": "code",
   "execution_count": 1,
   "metadata": {
    "collapsed": true
   },
   "outputs": [],
   "source": [
    "library(data.table)\n",
    "library(ggplot2)\n",
    "\n",
    "dt = data.table(read.table(\"../../datasets/revert_data/enwiki_20161201_reverted_bot2bot.tsv.bz2\", sep=\"\\t\", header=T, quote=\"\",\n",
    "                          comment.char=\"\"))\n",
    "dt$rev_ts = as.POSIXct(format(dt$rev_timestamp, scientific=F), format=\"%Y%m%d%H%M%S\")\n",
    "dt$rev_month = as.Date(paste(format(dt$rev_ts, \"%Y-%m-\"), \"01\", sep=\"\"))\n",
    "dt$rev_day = as.Date(dt$rev_ts)\n",
    "dt$reverting_ts = as.POSIXct(format(dt$reverting_timestamp, scientific=F), format=\"%Y%m%d%H%M%S\")\n",
    "dt$reverting_month = as.Date(paste(format(dt$reverting_ts, \"%Y-%m-\"), \"01\", sep=\"\"))\n",
    "dt$reverting_day = as.Date(dt$reverting_ts)"
   ]
  },
  {
   "cell_type": "code",
   "execution_count": 2,
   "metadata": {
    "collapsed": true
   },
   "outputs": [],
   "source": [
    "dt.by_page = setkey(dt, rev_page, rev_user_text, reverting_user_text)\n",
    "page_reverts = dt[\n",
    "    page_namespace == 0,\n",
    "    list(reverts=length(rev_id),\n",
    "         bots_involved=length(unique(c(rev_user_text, reverting_user_text))), \n",
    "         reverting_bots=length(unique(reverting_user_text)), \n",
    "         reverted_bots=length(unique(rev_user_text)),\n",
    "         first_revert=min(reverting_ts),\n",
    "         last_revert=max(reverting_ts)),\n",
    "    list(rev_page)]\n",
    "        "
   ]
  },
  {
   "cell_type": "code",
   "execution_count": 3,
   "metadata": {},
   "outputs": [
    {
     "data": {
      "text/html": [
       "<table>\n",
       "<thead><tr><th scope=col>rev_page</th><th scope=col>reverts</th><th scope=col>bots_involved</th><th scope=col>reverting_bots</th><th scope=col>reverted_bots</th><th scope=col>first_revert</th><th scope=col>last_revert</th></tr></thead>\n",
       "<tbody>\n",
       "\t<tr><td>49143051           </td><td>138                </td><td> 7                 </td><td> 3                 </td><td> 4                 </td><td>2016-04-14 19:05:02</td><td>2016-10-12 00:49:25</td></tr>\n",
       "\t<tr><td> 5971803           </td><td> 98                </td><td>16                 </td><td> 4                 </td><td>12                 </td><td>2006-10-21 19:17:51</td><td>2013-01-19 21:33:27</td></tr>\n",
       "\t<tr><td> 5971841           </td><td> 92                </td><td> 7                 </td><td> 3                 </td><td> 4                 </td><td>2009-08-08 11:30:25</td><td>2012-10-17 21:36:17</td></tr>\n",
       "\t<tr><td>    5487           </td><td> 82                </td><td> 4                 </td><td> 2                 </td><td> 2                 </td><td>2016-07-02 14:44:33</td><td>2016-07-07 19:02:07</td></tr>\n",
       "\t<tr><td> 5971837           </td><td> 78                </td><td> 8                 </td><td> 3                 </td><td> 5                 </td><td>2006-10-21 19:19:58</td><td>2012-09-16 16:13:25</td></tr>\n",
       "\t<tr><td> 4413025           </td><td> 70                </td><td> 4                 </td><td> 2                 </td><td> 2                 </td><td>2016-07-02 20:13:11</td><td>2016-07-07 20:32:53</td></tr>\n",
       "\t<tr><td> 5971821           </td><td> 68                </td><td> 8                 </td><td> 3                 </td><td> 5                 </td><td>2006-10-21 19:19:07</td><td>2012-10-17 21:35:21</td></tr>\n",
       "\t<tr><td> 5971843           </td><td> 66                </td><td> 8                 </td><td> 3                 </td><td> 5                 </td><td>2006-10-21 19:20:20</td><td>2012-10-17 21:36:24</td></tr>\n",
       "\t<tr><td>   24260           </td><td> 64                </td><td>24                 </td><td>13                 </td><td>11                 </td><td>2010-09-23 06:08:23</td><td>2011-06-23 13:08:19</td></tr>\n",
       "\t<tr><td>30736081           </td><td> 64                </td><td> 6                 </td><td> 3                 </td><td> 3                 </td><td>2016-04-23 10:39:04</td><td>2016-07-21 07:45:40</td></tr>\n",
       "</tbody>\n",
       "</table>\n"
      ],
      "text/latex": [
       "\\begin{tabular}{r|lllllll}\n",
       " rev\\_page & reverts & bots\\_involved & reverting\\_bots & reverted\\_bots & first\\_revert & last\\_revert\\\\\n",
       "\\hline\n",
       "\t 49143051            & 138                 &  7                  &  3                  &  4                  & 2016-04-14 19:05:02 & 2016-10-12 00:49:25\\\\\n",
       "\t  5971803            &  98                 & 16                  &  4                  & 12                  & 2006-10-21 19:17:51 & 2013-01-19 21:33:27\\\\\n",
       "\t  5971841            &  92                 &  7                  &  3                  &  4                  & 2009-08-08 11:30:25 & 2012-10-17 21:36:17\\\\\n",
       "\t     5487            &  82                 &  4                  &  2                  &  2                  & 2016-07-02 14:44:33 & 2016-07-07 19:02:07\\\\\n",
       "\t  5971837            &  78                 &  8                  &  3                  &  5                  & 2006-10-21 19:19:58 & 2012-09-16 16:13:25\\\\\n",
       "\t  4413025            &  70                 &  4                  &  2                  &  2                  & 2016-07-02 20:13:11 & 2016-07-07 20:32:53\\\\\n",
       "\t  5971821            &  68                 &  8                  &  3                  &  5                  & 2006-10-21 19:19:07 & 2012-10-17 21:35:21\\\\\n",
       "\t  5971843            &  66                 &  8                  &  3                  &  5                  & 2006-10-21 19:20:20 & 2012-10-17 21:36:24\\\\\n",
       "\t    24260            &  64                 & 24                  & 13                  & 11                  & 2010-09-23 06:08:23 & 2011-06-23 13:08:19\\\\\n",
       "\t 30736081            &  64                 &  6                  &  3                  &  3                  & 2016-04-23 10:39:04 & 2016-07-21 07:45:40\\\\\n",
       "\\end{tabular}\n"
      ],
      "text/markdown": [
       "\n",
       "rev_page | reverts | bots_involved | reverting_bots | reverted_bots | first_revert | last_revert | \n",
       "|---|---|---|---|---|---|---|---|---|---|\n",
       "| 49143051            | 138                 |  7                  |  3                  |  4                  | 2016-04-14 19:05:02 | 2016-10-12 00:49:25 | \n",
       "|  5971803            |  98                 | 16                  |  4                  | 12                  | 2006-10-21 19:17:51 | 2013-01-19 21:33:27 | \n",
       "|  5971841            |  92                 |  7                  |  3                  |  4                  | 2009-08-08 11:30:25 | 2012-10-17 21:36:17 | \n",
       "|     5487            |  82                 |  4                  |  2                  |  2                  | 2016-07-02 14:44:33 | 2016-07-07 19:02:07 | \n",
       "|  5971837            |  78                 |  8                  |  3                  |  5                  | 2006-10-21 19:19:58 | 2012-09-16 16:13:25 | \n",
       "|  4413025            |  70                 |  4                  |  2                  |  2                  | 2016-07-02 20:13:11 | 2016-07-07 20:32:53 | \n",
       "|  5971821            |  68                 |  8                  |  3                  |  5                  | 2006-10-21 19:19:07 | 2012-10-17 21:35:21 | \n",
       "|  5971843            |  66                 |  8                  |  3                  |  5                  | 2006-10-21 19:20:20 | 2012-10-17 21:36:24 | \n",
       "|    24260            |  64                 | 24                  | 13                  | 11                  | 2010-09-23 06:08:23 | 2011-06-23 13:08:19 | \n",
       "| 30736081            |  64                 |  6                  |  3                  |  3                  | 2016-04-23 10:39:04 | 2016-07-21 07:45:40 | \n",
       "\n",
       "\n"
      ],
      "text/plain": [
       "   rev_page reverts bots_involved reverting_bots reverted_bots\n",
       "1  49143051 138      7             3              4           \n",
       "2   5971803  98     16             4             12           \n",
       "3   5971841  92      7             3              4           \n",
       "4      5487  82      4             2              2           \n",
       "5   5971837  78      8             3              5           \n",
       "6   4413025  70      4             2              2           \n",
       "7   5971821  68      8             3              5           \n",
       "8   5971843  66      8             3              5           \n",
       "9     24260  64     24            13             11           \n",
       "10 30736081  64      6             3              3           \n",
       "   first_revert        last_revert        \n",
       "1  2016-04-14 19:05:02 2016-10-12 00:49:25\n",
       "2  2006-10-21 19:17:51 2013-01-19 21:33:27\n",
       "3  2009-08-08 11:30:25 2012-10-17 21:36:17\n",
       "4  2016-07-02 14:44:33 2016-07-07 19:02:07\n",
       "5  2006-10-21 19:19:58 2012-09-16 16:13:25\n",
       "6  2016-07-02 20:13:11 2016-07-07 20:32:53\n",
       "7  2006-10-21 19:19:07 2012-10-17 21:35:21\n",
       "8  2006-10-21 19:20:20 2012-10-17 21:36:24\n",
       "9  2010-09-23 06:08:23 2011-06-23 13:08:19\n",
       "10 2016-04-23 10:39:04 2016-07-21 07:45:40"
      ]
     },
     "metadata": {},
     "output_type": "display_data"
    }
   ],
   "source": [
    "page_reverts[order(page_reverts$reverts, decreasing=T),][1:10,]"
   ]
  },
  {
   "cell_type": "code",
   "execution_count": 4,
   "metadata": {},
   "outputs": [
    {
     "data": {},
     "metadata": {},
     "output_type": "display_data"
    },
    {
     "data": {
      "image/png": "[encoded data removed]",
      "text/plain": [
       "plot without title"
      ]
     },
     "metadata": {},
     "output_type": "display_data"
    }
   ],
   "source": [
    "ggplot(page_reverts, aes(x=reverts)) + \n",
    "geom_density(adjust=10) + \n",
    "scale_x_log10()"
   ]
  },
  {
   "cell_type": "code",
   "execution_count": 5,
   "metadata": {},
   "outputs": [
    {
     "data": {},
     "metadata": {},
     "output_type": "display_data"
    },
    {
     "data": {
      "image/png": "[encoded data removed]",
      "text/plain": [
       "plot without title"
      ]
     },
     "metadata": {},
     "output_type": "display_data"
    }
   ],
   "source": [
    "ggplot(page_reverts[reverts >= 5,], aes(x=reverts)) + \n",
    "geom_density(adjust=3) + \n",
    "scale_x_log10()"
   ]
  },
  {
   "cell_type": "code",
   "execution_count": 6,
   "metadata": {},
   "outputs": [
    {
     "data": {},
     "metadata": {},
     "output_type": "display_data"
    },
    {
     "data": {
      "image/png": "[encoded data removed]",
      "text/plain": [
       "plot without title"
      ]
     },
     "metadata": {},
     "output_type": "display_data"
    }
   ],
   "source": [
    "ggplot(page_reverts[reverts >= 10,], aes(x=reverts)) + \n",
    "geom_histogram(binwidth=1)"
   ]
  },
  {
   "cell_type": "code",
   "execution_count": 7,
   "metadata": {},
   "outputs": [
    {
     "data": {
      "text/html": [
       "<table>\n",
       "<thead><tr><th scope=col>rev_page</th><th scope=col>reverts</th><th scope=col>bots_involved</th><th scope=col>reverting_bots</th><th scope=col>reverted_bots</th><th scope=col>first_revert</th><th scope=col>last_revert</th></tr></thead>\n",
       "<tbody>\n",
       "\t<tr><td> 803               </td><td>10                 </td><td> 6                 </td><td> 3                 </td><td> 4                 </td><td>2008-08-03 16:20:59</td><td>2010-02-14 06:26:24</td></tr>\n",
       "\t<tr><td>1688               </td><td>30                 </td><td>21                 </td><td>10                 </td><td>11                 </td><td>2008-11-14 11:25:18</td><td>2010-11-14 04:03:47</td></tr>\n",
       "\t<tr><td>1806               </td><td>16                 </td><td> 9                 </td><td> 5                 </td><td> 4                 </td><td>2010-09-25 02:16:26</td><td>2011-02-27 20:41:58</td></tr>\n",
       "\t<tr><td>1984               </td><td>10                 </td><td> 9                 </td><td> 5                 </td><td> 4                 </td><td>2007-10-16 09:20:50</td><td>2010-12-31 10:21:58</td></tr>\n",
       "\t<tr><td>3386               </td><td>18                 </td><td> 6                 </td><td> 3                 </td><td> 3                 </td><td>2011-05-31 10:22:14</td><td>2011-05-31 16:21:41</td></tr>\n",
       "\t<tr><td>3457               </td><td>48                 </td><td>15                 </td><td> 7                 </td><td> 8                 </td><td>2010-03-08 02:28:08</td><td>2011-03-01 06:55:19</td></tr>\n",
       "\t<tr><td>5132               </td><td>10                 </td><td> 9                 </td><td> 5                 </td><td> 4                 </td><td>2010-08-30 04:14:24</td><td>2010-11-21 14:21:33</td></tr>\n",
       "\t<tr><td>5487               </td><td>82                 </td><td> 4                 </td><td> 2                 </td><td> 2                 </td><td>2016-07-02 14:44:33</td><td>2016-07-07 19:02:07</td></tr>\n",
       "\t<tr><td>5820               </td><td>10                 </td><td> 9                 </td><td> 5                 </td><td> 4                 </td><td>2010-09-22 04:36:34</td><td>2012-10-13 03:26:39</td></tr>\n",
       "\t<tr><td>9239               </td><td>10                 </td><td> 7                 </td><td> 4                 </td><td> 4                 </td><td>2010-02-26 16:36:56</td><td>2012-06-10 08:01:23</td></tr>\n",
       "</tbody>\n",
       "</table>\n"
      ],
      "text/latex": [
       "\\begin{tabular}{r|lllllll}\n",
       " rev\\_page & reverts & bots\\_involved & reverting\\_bots & reverted\\_bots & first\\_revert & last\\_revert\\\\\n",
       "\\hline\n",
       "\t  803                & 10                  &  6                  &  3                  &  4                  & 2008-08-03 16:20:59 & 2010-02-14 06:26:24\\\\\n",
       "\t 1688                & 30                  & 21                  & 10                  & 11                  & 2008-11-14 11:25:18 & 2010-11-14 04:03:47\\\\\n",
       "\t 1806                & 16                  &  9                  &  5                  &  4                  & 2010-09-25 02:16:26 & 2011-02-27 20:41:58\\\\\n",
       "\t 1984                & 10                  &  9                  &  5                  &  4                  & 2007-10-16 09:20:50 & 2010-12-31 10:21:58\\\\\n",
       "\t 3386                & 18                  &  6                  &  3                  &  3                  & 2011-05-31 10:22:14 & 2011-05-31 16:21:41\\\\\n",
       "\t 3457                & 48                  & 15                  &  7                  &  8                  & 2010-03-08 02:28:08 & 2011-03-01 06:55:19\\\\\n",
       "\t 5132                & 10                  &  9                  &  5                  &  4                  & 2010-08-30 04:14:24 & 2010-11-21 14:21:33\\\\\n",
       "\t 5487                & 82                  &  4                  &  2                  &  2                  & 2016-07-02 14:44:33 & 2016-07-07 19:02:07\\\\\n",
       "\t 5820                & 10                  &  9                  &  5                  &  4                  & 2010-09-22 04:36:34 & 2012-10-13 03:26:39\\\\\n",
       "\t 9239                & 10                  &  7                  &  4                  &  4                  & 2010-02-26 16:36:56 & 2012-06-10 08:01:23\\\\\n",
       "\\end{tabular}\n"
      ],
      "text/markdown": [
       "\n",
       "rev_page | reverts | bots_involved | reverting_bots | reverted_bots | first_revert | last_revert | \n",
       "|---|---|---|---|---|---|---|---|---|---|\n",
       "|  803                | 10                  |  6                  |  3                  |  4                  | 2008-08-03 16:20:59 | 2010-02-14 06:26:24 | \n",
       "| 1688                | 30                  | 21                  | 10                  | 11                  | 2008-11-14 11:25:18 | 2010-11-14 04:03:47 | \n",
       "| 1806                | 16                  |  9                  |  5                  |  4                  | 2010-09-25 02:16:26 | 2011-02-27 20:41:58 | \n",
       "| 1984                | 10                  |  9                  |  5                  |  4                  | 2007-10-16 09:20:50 | 2010-12-31 10:21:58 | \n",
       "| 3386                | 18                  |  6                  |  3                  |  3                  | 2011-05-31 10:22:14 | 2011-05-31 16:21:41 | \n",
       "| 3457                | 48                  | 15                  |  7                  |  8                  | 2010-03-08 02:28:08 | 2011-03-01 06:55:19 | \n",
       "| 5132                | 10                  |  9                  |  5                  |  4                  | 2010-08-30 04:14:24 | 2010-11-21 14:21:33 | \n",
       "| 5487                | 82                  |  4                  |  2                  |  2                  | 2016-07-02 14:44:33 | 2016-07-07 19:02:07 | \n",
       "| 5820                | 10                  |  9                  |  5                  |  4                  | 2010-09-22 04:36:34 | 2012-10-13 03:26:39 | \n",
       "| 9239                | 10                  |  7                  |  4                  |  4                  | 2010-02-26 16:36:56 | 2012-06-10 08:01:23 | \n",
       "\n",
       "\n"
      ],
      "text/plain": [
       "   rev_page reverts bots_involved reverting_bots reverted_bots\n",
       "1   803     10       6             3              4           \n",
       "2  1688     30      21            10             11           \n",
       "3  1806     16       9             5              4           \n",
       "4  1984     10       9             5              4           \n",
       "5  3386     18       6             3              3           \n",
       "6  3457     48      15             7              8           \n",
       "7  5132     10       9             5              4           \n",
       "8  5487     82       4             2              2           \n",
       "9  5820     10       9             5              4           \n",
       "10 9239     10       7             4              4           \n",
       "   first_revert        last_revert        \n",
       "1  2008-08-03 16:20:59 2010-02-14 06:26:24\n",
       "2  2008-11-14 11:25:18 2010-11-14 04:03:47\n",
       "3  2010-09-25 02:16:26 2011-02-27 20:41:58\n",
       "4  2007-10-16 09:20:50 2010-12-31 10:21:58\n",
       "5  2011-05-31 10:22:14 2011-05-31 16:21:41\n",
       "6  2010-03-08 02:28:08 2011-03-01 06:55:19\n",
       "7  2010-08-30 04:14:24 2010-11-21 14:21:33\n",
       "8  2016-07-02 14:44:33 2016-07-07 19:02:07\n",
       "9  2010-09-22 04:36:34 2012-10-13 03:26:39\n",
       "10 2010-02-26 16:36:56 2012-06-10 08:01:23"
      ]
     },
     "metadata": {},
     "output_type": "display_data"
    }
   ],
   "source": [
    "page_reverts[reverts >= 10,][1:10,]"
   ]
  },
  {
   "cell_type": "code",
   "execution_count": 8,
   "metadata": {
    "collapsed": true
   },
   "outputs": [],
   "source": [
    "page_bot_pairs = dt[\n",
    "    page_namespace == 0,\n",
    "    list(reverts=length(unique(rev_id)),\n",
    "         first_revert=min(reverting_ts),\n",
    "         last_revert=max(reverting_ts)),\n",
    "    list(rev_page, bots=paste(pmin(as.character(reverting_user_text), as.character(rev_user_text)), \n",
    "                              pmax(as.character(reverting_user_text), as.character(rev_user_text))))]"
   ]
  },
  {
   "cell_type": "code",
   "execution_count": 9,
   "metadata": {},
   "outputs": [
    {
     "data": {
      "text/html": [
       "<strong>png:</strong> 2"
      ],
      "text/latex": [
       "\\textbf{png:} 2"
      ],
      "text/markdown": [
       "**png:** 2"
      ],
      "text/plain": [
       "png \n",
       "  2 "
      ]
     },
     "metadata": {},
     "output_type": "display_data"
    },
    {
     "data": {
      "text/plain": [
       "\n",
       "     1      2      3      4      5      6      7      8      9     10     11 \n",
       "227900   6495    598    117     24      4      4      4      3      1      1 \n",
       "    13     14     15     16     17     18     19     20     21     22     23 \n",
       "     3      2      4      1      3      3      2      1      1      1      4 \n",
       "    24     28     29     30     31     35     39     41 \n",
       "     3      2      3      3      3      1      1      2 "
      ]
     },
     "metadata": {},
     "output_type": "display_data"
    },
    {
     "data": {
      "text/html": [
       "3509"
      ],
      "text/latex": [
       "3509"
      ],
      "text/markdown": [
       "3509"
      ],
      "text/plain": [
       "[1] 3509"
      ]
     },
     "metadata": {},
     "output_type": "display_data"
    },
    {
     "data": {
      "text/html": [
       "244399"
      ],
      "text/latex": [
       "244399"
      ],
      "text/markdown": [
       "244399"
      ],
      "text/plain": [
       "[1] 244399"
      ]
     },
     "metadata": {},
     "output_type": "display_data"
    },
    {
     "data": {
      "image/png": "[encoded data removed]",
      "text/plain": [
       "plot without title"
      ]
     },
     "metadata": {},
     "output_type": "display_data"
    }
   ],
   "source": [
    "p = ggplot(page_bot_pairs, aes(x=reverts)) + \n",
    "theme_bw() + \n",
    "geom_bar() + \n",
    "scale_y_log10(\"frequency (log scaled)\") + \n",
    "scale_x_continuous(\"bot-pair article reverts\")\n",
    "png(\"enwiki_bot_pair_article_reverts.png\", height=1600, width=1600, res=400)\n",
    "print(p)\n",
    "dev.off()\n",
    "print(p)\n",
    "table(page_bot_pairs$reverts)\n",
    "sum(page_bot_pairs[reverts > 2,]$reverts)\n",
    "sum(page_bot_pairs$reverts)"
   ]
  },
  {
   "cell_type": "code",
   "execution_count": 10,
   "metadata": {},
   "outputs": [
    {
     "data": {
      "text/html": [
       "<strong>png:</strong> 2"
      ],
      "text/latex": [
       "\\textbf{png:} 2"
      ],
      "text/markdown": [
       "**png:** 2"
      ],
      "text/plain": [
       "png \n",
       "  2 "
      ]
     },
     "metadata": {},
     "output_type": "display_data"
    },
    {
     "data": {
      "image/png": "[encoded data removed]",
      "text/plain": [
       "plot without title"
      ]
     },
     "metadata": {},
     "output_type": "display_data"
    }
   ],
   "source": [
    "reverts_duration = page_bot_pairs[,\n",
    "    list(\n",
    "        duration.mean=mean(as.numeric(difftime(last_revert, first_revert, units=\"secs\"))),\n",
    "        duration.median=median(as.numeric(difftime(last_revert, first_revert, units=\"secs\")))),\n",
    "    list(reverts)]\n",
    "\n",
    "p = ggplot(reverts_duration[reverts >= 2,], \n",
    "    aes(x=reverts, y=duration.median)) + \n",
    "theme_bw() + \n",
    "geom_line(color=\"gray\", linetype=2) +\n",
    "geom_point() +  \n",
    "scale_y_log10(\"Median revert-pair duration (log scaled)\",\n",
    "              breaks=c(60*60*24, 60*60*24*7, 60*60*24*30, 60*60*24*365, 60*60*24*365*2),\n",
    "              labels=c(\"day\", \"week\", \"month\", \"year\", \"2 years\")) + \n",
    "scale_x_continuous(\"bot-pair article reverts\", breaks=c(1, 5, 10, 15, 20, 25, 30, 35, 40))\n",
    "png(\"enwiki_bot_revert_pair_duration.png\", height=1600, width=1600, res=400)\n",
    "print(p)\n",
    "dev.off()\n",
    "print(p)"
   ]
  },
  {
   "cell_type": "code",
   "execution_count": 11,
   "metadata": {},
   "outputs": [
    {
     "data": {
      "text/html": [
       "<table>\n",
       "<thead><tr><th scope=col>rev_page</th><th scope=col>bots</th><th scope=col>reverts</th><th scope=col>first_revert</th><th scope=col>last_revert</th></tr></thead>\n",
       "<tbody>\n",
       "\t<tr><td>    5487             </td><td>AnomieBOT Cyberbot II</td><td>41                   </td><td>2016-07-02 14:44:33  </td><td>2016-07-07 19:02:07  </td></tr>\n",
       "\t<tr><td> 5971841             </td><td>FrescoBot Mathbot    </td><td>41                   </td><td>2010-04-22 04:06:47  </td><td>2012-10-17 21:36:17  </td></tr>\n",
       "\t<tr><td>49143051             </td><td>ListeriaBot Yobot    </td><td>39                   </td><td>2016-04-20 05:31:25  </td><td>2016-08-14 08:25:09  </td></tr>\n",
       "\t<tr><td> 4413025             </td><td>AnomieBOT Cyberbot II</td><td>35                   </td><td>2016-07-02 20:13:11  </td><td>2016-07-07 20:32:53  </td></tr>\n",
       "\t<tr><td> 1121632             </td><td>AnomieBOT Cyberbot II</td><td>31                   </td><td>2016-04-23 10:38:58  </td><td>2016-07-07 08:36:16  </td></tr>\n",
       "\t<tr><td> 8948190             </td><td>AnomieBOT Cyberbot II</td><td>31                   </td><td>2016-04-23 10:38:48  </td><td>2016-07-09 10:15:02  </td></tr>\n",
       "\t<tr><td>22807757             </td><td>AnomieBOT Cyberbot II</td><td>31                   </td><td>2016-04-23 10:38:54  </td><td>2016-07-09 10:15:03  </td></tr>\n",
       "\t<tr><td> 5469430             </td><td>AnomieBOT Cyberbot II</td><td>30                   </td><td>2016-04-23 10:38:53  </td><td>2016-07-09 10:15:07  </td></tr>\n",
       "\t<tr><td>22881933             </td><td>AnomieBOT Cyberbot II</td><td>30                   </td><td>2016-04-23 10:38:51  </td><td>2016-07-09 10:15:06  </td></tr>\n",
       "\t<tr><td>30736081             </td><td>AnomieBOT Cyberbot II</td><td>30                   </td><td>2016-04-23 10:39:04  </td><td>2016-07-21 07:25:36  </td></tr>\n",
       "</tbody>\n",
       "</table>\n"
      ],
      "text/latex": [
       "\\begin{tabular}{r|lllll}\n",
       " rev\\_page & bots & reverts & first\\_revert & last\\_revert\\\\\n",
       "\\hline\n",
       "\t     5487              & AnomieBOT Cyberbot II & 41                    & 2016-07-02 14:44:33   & 2016-07-07 19:02:07  \\\\\n",
       "\t  5971841              & FrescoBot Mathbot     & 41                    & 2010-04-22 04:06:47   & 2012-10-17 21:36:17  \\\\\n",
       "\t 49143051              & ListeriaBot Yobot     & 39                    & 2016-04-20 05:31:25   & 2016-08-14 08:25:09  \\\\\n",
       "\t  4413025              & AnomieBOT Cyberbot II & 35                    & 2016-07-02 20:13:11   & 2016-07-07 20:32:53  \\\\\n",
       "\t  1121632              & AnomieBOT Cyberbot II & 31                    & 2016-04-23 10:38:58   & 2016-07-07 08:36:16  \\\\\n",
       "\t  8948190              & AnomieBOT Cyberbot II & 31                    & 2016-04-23 10:38:48   & 2016-07-09 10:15:02  \\\\\n",
       "\t 22807757              & AnomieBOT Cyberbot II & 31                    & 2016-04-23 10:38:54   & 2016-07-09 10:15:03  \\\\\n",
       "\t  5469430              & AnomieBOT Cyberbot II & 30                    & 2016-04-23 10:38:53   & 2016-07-09 10:15:07  \\\\\n",
       "\t 22881933              & AnomieBOT Cyberbot II & 30                    & 2016-04-23 10:38:51   & 2016-07-09 10:15:06  \\\\\n",
       "\t 30736081              & AnomieBOT Cyberbot II & 30                    & 2016-04-23 10:39:04   & 2016-07-21 07:25:36  \\\\\n",
       "\\end{tabular}\n"
      ],
      "text/markdown": [
       "\n",
       "rev_page | bots | reverts | first_revert | last_revert | \n",
       "|---|---|---|---|---|---|---|---|---|---|\n",
       "|     5487              | AnomieBOT Cyberbot II | 41                    | 2016-07-02 14:44:33   | 2016-07-07 19:02:07   | \n",
       "|  5971841              | FrescoBot Mathbot     | 41                    | 2010-04-22 04:06:47   | 2012-10-17 21:36:17   | \n",
       "| 49143051              | ListeriaBot Yobot     | 39                    | 2016-04-20 05:31:25   | 2016-08-14 08:25:09   | \n",
       "|  4413025              | AnomieBOT Cyberbot II | 35                    | 2016-07-02 20:13:11   | 2016-07-07 20:32:53   | \n",
       "|  1121632              | AnomieBOT Cyberbot II | 31                    | 2016-04-23 10:38:58   | 2016-07-07 08:36:16   | \n",
       "|  8948190              | AnomieBOT Cyberbot II | 31                    | 2016-04-23 10:38:48   | 2016-07-09 10:15:02   | \n",
       "| 22807757              | AnomieBOT Cyberbot II | 31                    | 2016-04-23 10:38:54   | 2016-07-09 10:15:03   | \n",
       "|  5469430              | AnomieBOT Cyberbot II | 30                    | 2016-04-23 10:38:53   | 2016-07-09 10:15:07   | \n",
       "| 22881933              | AnomieBOT Cyberbot II | 30                    | 2016-04-23 10:38:51   | 2016-07-09 10:15:06   | \n",
       "| 30736081              | AnomieBOT Cyberbot II | 30                    | 2016-04-23 10:39:04   | 2016-07-21 07:25:36   | \n",
       "\n",
       "\n"
      ],
      "text/plain": [
       "   rev_page bots                  reverts first_revert       \n",
       "1      5487 AnomieBOT Cyberbot II 41      2016-07-02 14:44:33\n",
       "2   5971841 FrescoBot Mathbot     41      2010-04-22 04:06:47\n",
       "3  49143051 ListeriaBot Yobot     39      2016-04-20 05:31:25\n",
       "4   4413025 AnomieBOT Cyberbot II 35      2016-07-02 20:13:11\n",
       "5   1121632 AnomieBOT Cyberbot II 31      2016-04-23 10:38:58\n",
       "6   8948190 AnomieBOT Cyberbot II 31      2016-04-23 10:38:48\n",
       "7  22807757 AnomieBOT Cyberbot II 31      2016-04-23 10:38:54\n",
       "8   5469430 AnomieBOT Cyberbot II 30      2016-04-23 10:38:53\n",
       "9  22881933 AnomieBOT Cyberbot II 30      2016-04-23 10:38:51\n",
       "10 30736081 AnomieBOT Cyberbot II 30      2016-04-23 10:39:04\n",
       "   last_revert        \n",
       "1  2016-07-07 19:02:07\n",
       "2  2012-10-17 21:36:17\n",
       "3  2016-08-14 08:25:09\n",
       "4  2016-07-07 20:32:53\n",
       "5  2016-07-07 08:36:16\n",
       "6  2016-07-09 10:15:02\n",
       "7  2016-07-09 10:15:03\n",
       "8  2016-07-09 10:15:07\n",
       "9  2016-07-09 10:15:06\n",
       "10 2016-07-21 07:25:36"
      ]
     },
     "metadata": {},
     "output_type": "display_data"
    }
   ],
   "source": [
    "page_bot_pairs[order(page_bot_pairs$reverts, decreasing=T),][1:10,]"
   ]
  },
  {
   "cell_type": "markdown",
   "metadata": {},
   "source": [
    "* Mathbot and FrescoBot are definitely fighting.\n",
    "* AnomieBOT and Cyberbot II are definitely fighting.\n",
    "* BG19bot and Yobot are fighting ListeriaBot.\n",
    "\n",
    "This is a gold mine!  \n",
    "\n",
    "-------------------------------------\n",
    "\n",
    "The longest single-page mutual bot-on-bot revert sequence lasted 41 reverts and it continued over the course of 2 and a half years.  It happened on \"List of Mathematicians (X)\" between Mathbot and FrescoBot.  Mathbot updates the lists of mathematicians based on categorizations in Wikipedia. FrescoBot fixes link syntax.  When the target of the link and the label are the same, it simplifies the link.  Like clockwork, FrescoBot writes out a link of the structure [[<first name> <last name>|<last name>, <first name>]].  Normally these bots work together beautifully, but in the case of mathematicians with one name -- in this case \"Xenocrates\", Mathbot writes the link as [[Xenocrates|Xenocrates]] and FrescoBot dutifully, simplifies the link to just [[Xenocrates]].  Every time that Mathbot runs, it changes the link back to [[Xenocrates|Xenocrates]] and FrescoBot changes it back.  \n",
    "\n",
    "-------------------------------------\n",
    "\n",
    "Actually, it's a tie and honestly, this second case might be more interesting.  AnomieBOT and CyberBot II also had an 41 revert sequence on a single page, but it lasted for 41 reverts over the course of only 4 days!  On the article about \"Foreign relations of the Central African Republic\", AnomieBOT claimed to be \"rescuing orphaned refs\"  -- adding a reference to dead link by using the internet archive to provide a copy of the old referenced PDF titled \"International Criminal Court: Background – Situation in the Central African Republic\".  Every time that AnomieBOT \"rescued\" the link, Cyberbot II swing by and removed the reference with the confusing comment \"Rescuing 1 sources\".   This case is arguably worse than FrescoBot and Mathbot because it spanned many pages.  The bots had similar fights on the biography of the songwriter Rico Love (35 reverts), the broadcaster Dougie Vipond (31 reverts), and the song \"Seasons Change\" (31 reverts).  The list keeps going.  All told, these bots reverted each other 396 times on 15 pages -- constantly adding links to Internet Archive pages and then removing them again. "
   ]
  },
  {
   "cell_type": "code",
   "execution_count": null,
   "metadata": {
    "collapsed": true
   },
   "outputs": [],
   "source": [
    "ggplot(dt[reverting_user_text %in% c(\"AnomieBOT\", \"Cyberbot II\") &\n",
    "          rev_user_text %in% c(\"AnomieBOT\", \"Cyberbot II\"),], \n",
    "       aes(x=reverting_ts)) + \n",
    "geom_histogram(binwidth=1)\n",
    "\n",
    "dt[reverting_user_text %in% c(\"AnomieBOT\", \"Cyberbot II\") &\n",
    "          rev_user_text %in% c(\"AnomieBOT\", \"Cyberbot II\"),\n",
    "    list(n=length(unique(rev_id)), pages=length(unique(rev_page)))]"
   ]
  },
  {
   "cell_type": "code",
   "execution_count": 13,
   "metadata": {},
   "outputs": [
    {
     "data": {},
     "metadata": {},
     "output_type": "display_data"
    },
    {
     "data": {
      "image/png": "[encoded data removed]",
      "text/plain": [
       "plot without title"
      ]
     },
     "metadata": {},
     "output_type": "display_data"
    }
   ],
   "source": [
    "ggplot(page_bot_pairs, aes(x=reverts)) + \n",
    "geom_histogram(binwidth=1)"
   ]
  },
  {
   "cell_type": "code",
   "execution_count": 14,
   "metadata": {},
   "outputs": [
    {
     "data": {},
     "metadata": {},
     "output_type": "display_data"
    },
    {
     "data": {
      "image/png": "[encoded data removed]",
      "text/plain": [
       "plot without title"
      ]
     },
     "metadata": {},
     "output_type": "display_data"
    }
   ],
   "source": [
    "ggplot(page_bot_pairs[reverts > 2,], aes(x=reverts)) + \n",
    "geom_histogram(binwidth=1)"
   ]
  },
  {
   "cell_type": "markdown",
   "metadata": {},
   "source": [
    "There's definitely some shape to this.  There's something around 20 reverts where, beyond that, there's some density.  Let's look at 3-10, 10-20, 20-30, and 30-40.  "
   ]
  },
  {
   "cell_type": "code",
   "execution_count": 15,
   "metadata": {},
   "outputs": [
    {
     "data": {
      "text/html": [
       "<table>\n",
       "<thead><tr><th scope=col>rev_page</th><th scope=col>bots</th><th scope=col>reverts</th><th scope=col>first_revert</th><th scope=col>last_revert</th></tr></thead>\n",
       "<tbody>\n",
       "\t<tr><td>  803                </td><td>Synthebot TXiKiBoT   </td><td>3                    </td><td>2008-08-26 21:44:51  </td><td>2008-08-29 00:55:38  </td></tr>\n",
       "\t<tr><td> 1806                </td><td>WikitanvirBot Xqbot  </td><td>5                    </td><td>2011-02-27 16:47:51  </td><td>2011-02-27 20:41:58  </td></tr>\n",
       "\t<tr><td> 3386                </td><td>TjBot WikitanvirBot  </td><td>7                    </td><td>2011-05-31 10:22:14  </td><td>2011-05-31 16:21:41  </td></tr>\n",
       "\t<tr><td> 3457                </td><td>TjBot WikitanvirBot  </td><td>9                    </td><td>2011-02-20 13:11:26  </td><td>2011-03-01 06:55:19  </td></tr>\n",
       "\t<tr><td> 3457                </td><td>WikitanvirBot Xqbot  </td><td>8                    </td><td>2011-02-21 00:33:06  </td><td>2011-02-28 23:51:13  </td></tr>\n",
       "\t<tr><td> 5935                </td><td>GrouchoBot Xqbot     </td><td>3                    </td><td>2011-07-02 21:05:01  </td><td>2011-07-03 15:29:14  </td></tr>\n",
       "\t<tr><td>11145                </td><td>Numbo3-bot Xqbot     </td><td>4                    </td><td>2009-10-03 18:17:19  </td><td>2009-10-13 07:05:51  </td></tr>\n",
       "\t<tr><td>11260                </td><td>AnomieBOT Cyberbot II</td><td>6                    </td><td>2016-04-23 10:38:41  </td><td>2016-06-09 08:01:56  </td></tr>\n",
       "\t<tr><td>18964                </td><td>WikitanvirBot Xqbot  </td><td>5                    </td><td>2011-02-18 18:12:16  </td><td>2011-02-22 15:09:53  </td></tr>\n",
       "\t<tr><td>19673                </td><td>Alexbot Obersachsebot</td><td>3                    </td><td>2009-12-12 17:33:53  </td><td>2009-12-13 14:17:47  </td></tr>\n",
       "</tbody>\n",
       "</table>\n"
      ],
      "text/latex": [
       "\\begin{tabular}{r|lllll}\n",
       " rev\\_page & bots & reverts & first\\_revert & last\\_revert\\\\\n",
       "\\hline\n",
       "\t   803                 & Synthebot TXiKiBoT    & 3                     & 2008-08-26 21:44:51   & 2008-08-29 00:55:38  \\\\\n",
       "\t  1806                 & WikitanvirBot Xqbot   & 5                     & 2011-02-27 16:47:51   & 2011-02-27 20:41:58  \\\\\n",
       "\t  3386                 & TjBot WikitanvirBot   & 7                     & 2011-05-31 10:22:14   & 2011-05-31 16:21:41  \\\\\n",
       "\t  3457                 & TjBot WikitanvirBot   & 9                     & 2011-02-20 13:11:26   & 2011-03-01 06:55:19  \\\\\n",
       "\t  3457                 & WikitanvirBot Xqbot   & 8                     & 2011-02-21 00:33:06   & 2011-02-28 23:51:13  \\\\\n",
       "\t  5935                 & GrouchoBot Xqbot      & 3                     & 2011-07-02 21:05:01   & 2011-07-03 15:29:14  \\\\\n",
       "\t 11145                 & Numbo3-bot Xqbot      & 4                     & 2009-10-03 18:17:19   & 2009-10-13 07:05:51  \\\\\n",
       "\t 11260                 & AnomieBOT Cyberbot II & 6                     & 2016-04-23 10:38:41   & 2016-06-09 08:01:56  \\\\\n",
       "\t 18964                 & WikitanvirBot Xqbot   & 5                     & 2011-02-18 18:12:16   & 2011-02-22 15:09:53  \\\\\n",
       "\t 19673                 & Alexbot Obersachsebot & 3                     & 2009-12-12 17:33:53   & 2009-12-13 14:17:47  \\\\\n",
       "\\end{tabular}\n"
      ],
      "text/markdown": [
       "\n",
       "rev_page | bots | reverts | first_revert | last_revert | \n",
       "|---|---|---|---|---|---|---|---|---|---|\n",
       "|   803                 | Synthebot TXiKiBoT    | 3                     | 2008-08-26 21:44:51   | 2008-08-29 00:55:38   | \n",
       "|  1806                 | WikitanvirBot Xqbot   | 5                     | 2011-02-27 16:47:51   | 2011-02-27 20:41:58   | \n",
       "|  3386                 | TjBot WikitanvirBot   | 7                     | 2011-05-31 10:22:14   | 2011-05-31 16:21:41   | \n",
       "|  3457                 | TjBot WikitanvirBot   | 9                     | 2011-02-20 13:11:26   | 2011-03-01 06:55:19   | \n",
       "|  3457                 | WikitanvirBot Xqbot   | 8                     | 2011-02-21 00:33:06   | 2011-02-28 23:51:13   | \n",
       "|  5935                 | GrouchoBot Xqbot      | 3                     | 2011-07-02 21:05:01   | 2011-07-03 15:29:14   | \n",
       "| 11145                 | Numbo3-bot Xqbot      | 4                     | 2009-10-03 18:17:19   | 2009-10-13 07:05:51   | \n",
       "| 11260                 | AnomieBOT Cyberbot II | 6                     | 2016-04-23 10:38:41   | 2016-06-09 08:01:56   | \n",
       "| 18964                 | WikitanvirBot Xqbot   | 5                     | 2011-02-18 18:12:16   | 2011-02-22 15:09:53   | \n",
       "| 19673                 | Alexbot Obersachsebot | 3                     | 2009-12-12 17:33:53   | 2009-12-13 14:17:47   | \n",
       "\n",
       "\n"
      ],
      "text/plain": [
       "   rev_page bots                  reverts first_revert       \n",
       "1    803    Synthebot TXiKiBoT    3       2008-08-26 21:44:51\n",
       "2   1806    WikitanvirBot Xqbot   5       2011-02-27 16:47:51\n",
       "3   3386    TjBot WikitanvirBot   7       2011-05-31 10:22:14\n",
       "4   3457    TjBot WikitanvirBot   9       2011-02-20 13:11:26\n",
       "5   3457    WikitanvirBot Xqbot   8       2011-02-21 00:33:06\n",
       "6   5935    GrouchoBot Xqbot      3       2011-07-02 21:05:01\n",
       "7  11145    Numbo3-bot Xqbot      4       2009-10-03 18:17:19\n",
       "8  11260    AnomieBOT Cyberbot II 6       2016-04-23 10:38:41\n",
       "9  18964    WikitanvirBot Xqbot   5       2011-02-18 18:12:16\n",
       "10 19673    Alexbot Obersachsebot 3       2009-12-12 17:33:53\n",
       "   last_revert        \n",
       "1  2008-08-29 00:55:38\n",
       "2  2011-02-27 20:41:58\n",
       "3  2011-05-31 16:21:41\n",
       "4  2011-03-01 06:55:19\n",
       "5  2011-02-28 23:51:13\n",
       "6  2011-07-03 15:29:14\n",
       "7  2009-10-13 07:05:51\n",
       "8  2016-06-09 08:01:56\n",
       "9  2011-02-22 15:09:53\n",
       "10 2009-12-13 14:17:47"
      ]
     },
     "metadata": {},
     "output_type": "display_data"
    }
   ],
   "source": [
    "page_bot_pairs[reverts > 2 & reverts < 10,][1:10,]"
   ]
  },
  {
   "cell_type": "markdown",
   "metadata": {},
   "source": [
    "This is mostly fighting, but some of the fights are less obvious given so few interactions.\n",
    "\n",
    "* TXiKiBoT and Synthebot aren't really fighting, but it's hard to figure why Synthebot was doing what it was doing. \n",
    "* EmausBot and KamikazeBot look like they might be fighting a little bit.  They are fighting over the same links that HRoestBot, Rubinbot, and SieBot are on the page titled \"Alphons\".\n",
    "* Alexbot and RussBot are just managing redirects around naming of \"Arab world\", \"Arab World\", and \"Arab Countries\"\n",
    "* WikitanvirBot Xqbot are fighting over whether or not to link to hiwiki.  Their fight lasts a few hours before it comes to an end.  This was due to a known bug and the workaround Xqt proposed is https://www.mediawiki.org/wiki/Special:Code/pywikipedia/9018"
   ]
  },
  {
   "cell_type": "code",
   "execution_count": 16,
   "metadata": {},
   "outputs": [
    {
     "data": {
      "text/html": [
       "<table>\n",
       "<thead><tr><th scope=col>bots</th><th scope=col>reverts</th><th scope=col>duration.meadian</th></tr></thead>\n",
       "<tbody>\n",
       "\t<tr><td>LaaknorBot WikitanvirBot</td><td> 17                     </td><td>  2.37592593            </td></tr>\n",
       "\t<tr><td>ArthurBot Mjbmrbot      </td><td> 13                     </td><td>  0.07336806            </td></tr>\n",
       "\t<tr><td>28bot AnomieBOT         </td><td> 15                     </td><td>  0.09966435            </td></tr>\n",
       "\t<tr><td>FrescoBot Mathbot       </td><td>387                     </td><td>865.00512731            </td></tr>\n",
       "\t<tr><td>Mathbot Yobot           </td><td> 15                     </td><td>482.00324074            </td></tr>\n",
       "\t<tr><td>AnomieBOT Cyberbot II   </td><td> 66                     </td><td> 76.98337963            </td></tr>\n",
       "</tbody>\n",
       "</table>\n"
      ],
      "text/latex": [
       "\\begin{tabular}{r|lll}\n",
       " bots & reverts & duration.meadian\\\\\n",
       "\\hline\n",
       "\t LaaknorBot WikitanvirBot &  17                      &   2.37592593            \\\\\n",
       "\t ArthurBot Mjbmrbot       &  13                      &   0.07336806            \\\\\n",
       "\t 28bot AnomieBOT          &  15                      &   0.09966435            \\\\\n",
       "\t FrescoBot Mathbot        & 387                      & 865.00512731            \\\\\n",
       "\t Mathbot Yobot            &  15                      & 482.00324074            \\\\\n",
       "\t AnomieBOT Cyberbot II    &  66                      &  76.98337963            \\\\\n",
       "\\end{tabular}\n"
      ],
      "text/markdown": [
       "\n",
       "bots | reverts | duration.meadian | \n",
       "|---|---|---|---|---|---|\n",
       "| LaaknorBot WikitanvirBot |  17                      |   2.37592593             | \n",
       "| ArthurBot Mjbmrbot       |  13                      |   0.07336806             | \n",
       "| 28bot AnomieBOT          |  15                      |   0.09966435             | \n",
       "| FrescoBot Mathbot        | 387                      | 865.00512731             | \n",
       "| Mathbot Yobot            |  15                      | 482.00324074             | \n",
       "| AnomieBOT Cyberbot II    |  66                      |  76.98337963             | \n",
       "\n",
       "\n"
      ],
      "text/plain": [
       "  bots                     reverts duration.meadian\n",
       "1 LaaknorBot WikitanvirBot  17       2.37592593    \n",
       "2 ArthurBot Mjbmrbot        13       0.07336806    \n",
       "3 28bot AnomieBOT           15       0.09966435    \n",
       "4 FrescoBot Mathbot        387     865.00512731    \n",
       "5 Mathbot Yobot             15     482.00324074    \n",
       "6 AnomieBOT Cyberbot II     66      76.98337963    "
      ]
     },
     "metadata": {},
     "output_type": "display_data"
    }
   ],
   "source": [
    "page_bot_pairs[reverts >= 12 & reverts < 25,\n",
    "               list(reverts=sum(reverts), \n",
    "                    duration.meadian=median(as.numeric(difftime(last_revert, first_revert, units=\"day\")))),\n",
    "               list(bots)]"
   ]
  },
  {
   "cell_type": "markdown",
   "metadata": {},
   "source": [
    "* WikitanvirBot and Xqbot are doing what they were doing in the last set.  \n",
    "* We already know about Frescobot and Mathbot.  The interaction with EmausBot is a fight too.  It seems that Mathbot is just overwriting the work of other bots that it encounters. \n",
    "* 28bot and AnomieBOT are fighting.  AnomieBOT adds a empty reference tag and 28bot reverts the edit because it sees the edit as a \"test edit\".  \n",
    "\n",
    "OK, I'm satisfied.  Most single-page revert activity between bots that involves more than 2 edits is a fight.  Let's look at how many reverts are accounted for.  "
   ]
  },
  {
   "cell_type": "code",
   "execution_count": 17,
   "metadata": {},
   "outputs": [
    {
     "data": {
      "text/html": [
       "244399"
      ],
      "text/latex": [
       "244399"
      ],
      "text/markdown": [
       "244399"
      ],
      "text/plain": [
       "[1] 244399"
      ]
     },
     "metadata": {},
     "output_type": "display_data"
    }
   ],
   "source": [
    "length(unique(dt[page_namespace == 0,]$rev_id))"
   ]
  },
  {
   "cell_type": "code",
   "execution_count": 18,
   "metadata": {},
   "outputs": [
    {
     "data": {
      "text/html": [
       "3509"
      ],
      "text/latex": [
       "3509"
      ],
      "text/markdown": [
       "3509"
      ],
      "text/plain": [
       "[1] 3509"
      ]
     },
     "metadata": {},
     "output_type": "display_data"
    }
   ],
   "source": [
    "sum(page_bot_pairs[reverts > 2,]$reverts)"
   ]
  },
  {
   "cell_type": "markdown",
   "metadata": {},
   "source": [
    "lol.  So, maybe 1.4%.  \n"
   ]
  },
  {
   "cell_type": "code",
   "execution_count": 19,
   "metadata": {},
   "outputs": [
    {
     "data": {
      "text/html": [
       "<table>\n",
       "<thead><tr><th scope=col>rev_page</th><th scope=col>bots</th><th scope=col>reverts</th><th scope=col>first_revert</th><th scope=col>last_revert</th></tr></thead>\n",
       "<tbody>\n",
       "\t<tr><td>5971837            </td><td>Mathbot Yobot      </td><td>15                 </td><td>2010-09-08 22:35:38</td><td>2012-01-03 21:40:18</td></tr>\n",
       "</tbody>\n",
       "</table>\n"
      ],
      "text/latex": [
       "\\begin{tabular}{r|lllll}\n",
       " rev\\_page & bots & reverts & first\\_revert & last\\_revert\\\\\n",
       "\\hline\n",
       "\t 5971837             & Mathbot Yobot       & 15                  & 2010-09-08 22:35:38 & 2012-01-03 21:40:18\\\\\n",
       "\\end{tabular}\n"
      ],
      "text/markdown": [
       "\n",
       "rev_page | bots | reverts | first_revert | last_revert | \n",
       "|---|\n",
       "| 5971837             | Mathbot Yobot       | 15                  | 2010-09-08 22:35:38 | 2012-01-03 21:40:18 | \n",
       "\n",
       "\n"
      ],
      "text/plain": [
       "  rev_page bots          reverts first_revert        last_revert        \n",
       "1 5971837  Mathbot Yobot 15      2010-09-08 22:35:38 2012-01-03 21:40:18"
      ]
     },
     "metadata": {},
     "output_type": "display_data"
    }
   ],
   "source": [
    "page_bot_pairs[reverts >= 12 & reverts < 25 & (bots == \"Mathbot Yobot\"),]"
   ]
  },
  {
   "cell_type": "code",
   "execution_count": null,
   "metadata": {
    "collapsed": true
   },
   "outputs": [],
   "source": []
  },
  {
   "cell_type": "code",
   "execution_count": null,
   "metadata": {
    "collapsed": true
   },
   "outputs": [],
   "source": []
  }
 ],
 "metadata": {
  "kernelspec": {
   "display_name": "R",
   "language": "R",
   "name": "ir"
  }
 },
 "nbformat": 4,
 "nbformat_minor": 1
}
