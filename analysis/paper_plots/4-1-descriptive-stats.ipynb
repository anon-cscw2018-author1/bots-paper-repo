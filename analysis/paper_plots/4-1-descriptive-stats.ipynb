{
 "cells": [
  {
   "cell_type": "code",
   "execution_count": 1,
   "metadata": {
    "collapsed": true
   },
   "outputs": [],
   "source": [
    "import pandas as pd\n",
    "import seaborn as sns\n",
    "import matplotlib.pyplot as plt\n",
    "import numpy as np\n",
    "import pickle\n",
    "%matplotlib inline"
   ]
  },
  {
   "cell_type": "markdown",
   "metadata": {},
   "source": [
    "## Data processing"
   ]
  },
  {
   "cell_type": "code",
   "execution_count": 2,
   "metadata": {},
   "outputs": [
    {
     "name": "stdout",
     "output_type": "stream",
     "text": [
      "../../datasets/df_all_2016.pickle\r\n",
      "../../datasets/df_all_comments_parsed_2016.pickle\r\n",
      "../../datasets/possible_botfights.pickle\r\n"
     ]
    }
   ],
   "source": [
    "!ls ../../datasets/*.pickle"
   ]
  },
  {
   "cell_type": "code",
   "execution_count": 3,
   "metadata": {},
   "outputs": [],
   "source": [
    "with open(\"../../datasets/df_all_comments_parsed_2016.pickle\", \"rb\") as f:\n",
    "    df_all = pickle.load(f)"
   ]
  },
  {
   "cell_type": "code",
   "execution_count": 4,
   "metadata": {},
   "outputs": [
    {
     "data": {
      "text/plain": [
       "921971"
      ]
     },
     "execution_count": 4,
     "metadata": {},
     "output_type": "execute_result"
    }
   ],
   "source": [
    "len(df_all)"
   ]
  },
  {
   "cell_type": "markdown",
   "metadata": {},
   "source": [
    "### Final data format"
   ]
  },
  {
   "cell_type": "code",
   "execution_count": 5,
   "metadata": {},
   "outputs": [
    {
     "data": {
      "text/html": [
       "<div>\n",
       "<table border=\"1\" class=\"dataframe\">\n",
       "  <thead>\n",
       "    <tr style=\"text-align: right;\">\n",
       "      <th></th>\n",
       "      <th>0</th>\n",
       "      <th>1</th>\n",
       "    </tr>\n",
       "  </thead>\n",
       "  <tbody>\n",
       "    <tr>\n",
       "      <th>archived</th>\n",
       "      <td>False</td>\n",
       "      <td>False</td>\n",
       "    </tr>\n",
       "    <tr>\n",
       "      <th>language</th>\n",
       "      <td>zh</td>\n",
       "      <td>zh</td>\n",
       "    </tr>\n",
       "    <tr>\n",
       "      <th>page_namespace</th>\n",
       "      <td>0</td>\n",
       "      <td>0</td>\n",
       "    </tr>\n",
       "    <tr>\n",
       "      <th>rev_deleted</th>\n",
       "      <td>False</td>\n",
       "      <td>False</td>\n",
       "    </tr>\n",
       "    <tr>\n",
       "      <th>rev_id</th>\n",
       "      <td>10764032</td>\n",
       "      <td>16265305</td>\n",
       "    </tr>\n",
       "    <tr>\n",
       "      <th>rev_minor_edit</th>\n",
       "      <td>True</td>\n",
       "      <td>True</td>\n",
       "    </tr>\n",
       "    <tr>\n",
       "      <th>rev_page</th>\n",
       "      <td>796015</td>\n",
       "      <td>796015</td>\n",
       "    </tr>\n",
       "    <tr>\n",
       "      <th>rev_parent_id</th>\n",
       "      <td>1.0169e+07</td>\n",
       "      <td>1.62328e+07</td>\n",
       "    </tr>\n",
       "    <tr>\n",
       "      <th>rev_revert_offset</th>\n",
       "      <td>1</td>\n",
       "      <td>1</td>\n",
       "    </tr>\n",
       "    <tr>\n",
       "      <th>rev_sha1</th>\n",
       "      <td>r64h9ccp8u81sv76rchiqlopzvbjz7y</td>\n",
       "      <td>e19g7y6aw3j2k4yw3k6q0o3vn3f69i7</td>\n",
       "    </tr>\n",
       "    <tr>\n",
       "      <th>rev_timestamp</th>\n",
       "      <td>20090801223520</td>\n",
       "      <td>20110415051810</td>\n",
       "    </tr>\n",
       "    <tr>\n",
       "      <th>rev_user</th>\n",
       "      <td>517168</td>\n",
       "      <td>967390</td>\n",
       "    </tr>\n",
       "    <tr>\n",
       "      <th>rev_user_text</th>\n",
       "      <td>Yonidebot</td>\n",
       "      <td>Ripchip Bot</td>\n",
       "    </tr>\n",
       "    <tr>\n",
       "      <th>reverted_to_rev_id</th>\n",
       "      <td>10169029</td>\n",
       "      <td>16232774</td>\n",
       "    </tr>\n",
       "    <tr>\n",
       "      <th>reverting_archived</th>\n",
       "      <td>False</td>\n",
       "      <td>False</td>\n",
       "    </tr>\n",
       "    <tr>\n",
       "      <th>reverting_comment</th>\n",
       "      <td>機器人 修改: [[ru:Карлин, Джордж]]</td>\n",
       "      <td>r2.7.1) (機器人 修改: [[fa:جرج کارلین]]</td>\n",
       "    </tr>\n",
       "    <tr>\n",
       "      <th>reverting_deleted</th>\n",
       "      <td>False</td>\n",
       "      <td>False</td>\n",
       "    </tr>\n",
       "    <tr>\n",
       "      <th>reverting_id</th>\n",
       "      <td>11723436</td>\n",
       "      <td>16609270</td>\n",
       "    </tr>\n",
       "    <tr>\n",
       "      <th>reverting_minor_edit</th>\n",
       "      <td>True</td>\n",
       "      <td>True</td>\n",
       "    </tr>\n",
       "    <tr>\n",
       "      <th>reverting_page</th>\n",
       "      <td>796015</td>\n",
       "      <td>796015</td>\n",
       "    </tr>\n",
       "    <tr>\n",
       "      <th>reverting_parent_id</th>\n",
       "      <td>1.0764e+07</td>\n",
       "      <td>1.62653e+07</td>\n",
       "    </tr>\n",
       "    <tr>\n",
       "      <th>reverting_sha1</th>\n",
       "      <td>iidynpvgp28zim9y94kg8rx6igy0oda</td>\n",
       "      <td>o6fe72h89xuul14ezc4epmzw0fxlic5</td>\n",
       "    </tr>\n",
       "    <tr>\n",
       "      <th>reverting_timestamp</th>\n",
       "      <td>20091128162947</td>\n",
       "      <td>20110526094907</td>\n",
       "    </tr>\n",
       "    <tr>\n",
       "      <th>reverting_user</th>\n",
       "      <td>563591</td>\n",
       "      <td>891729</td>\n",
       "    </tr>\n",
       "    <tr>\n",
       "      <th>reverting_user_text</th>\n",
       "      <td>Xqbot</td>\n",
       "      <td>WikitanvirBot</td>\n",
       "    </tr>\n",
       "    <tr>\n",
       "      <th>revisions_reverted</th>\n",
       "      <td>1</td>\n",
       "      <td>1</td>\n",
       "    </tr>\n",
       "    <tr>\n",
       "      <th>namespace_type</th>\n",
       "      <td>article</td>\n",
       "      <td>article</td>\n",
       "    </tr>\n",
       "    <tr>\n",
       "      <th>reverted_timestamp_dt</th>\n",
       "      <td>2009-08-01 22:35:20</td>\n",
       "      <td>2011-04-15 05:18:10</td>\n",
       "    </tr>\n",
       "    <tr>\n",
       "      <th>reverting_timestamp_dt</th>\n",
       "      <td>2009-11-28 16:29:47</td>\n",
       "      <td>2011-05-26 09:49:07</td>\n",
       "    </tr>\n",
       "    <tr>\n",
       "      <th>time_to_revert</th>\n",
       "      <td>118 days 17:54:27</td>\n",
       "      <td>41 days 04:30:57</td>\n",
       "    </tr>\n",
       "    <tr>\n",
       "      <th>time_to_revert_hrs</th>\n",
       "      <td>2849.91</td>\n",
       "      <td>988.516</td>\n",
       "    </tr>\n",
       "    <tr>\n",
       "      <th>time_to_revert_days</th>\n",
       "      <td>118.746</td>\n",
       "      <td>41.1882</td>\n",
       "    </tr>\n",
       "    <tr>\n",
       "      <th>reverting_year</th>\n",
       "      <td>2009</td>\n",
       "      <td>2011</td>\n",
       "    </tr>\n",
       "    <tr>\n",
       "      <th>time_to_revert_days_log10</th>\n",
       "      <td>2.07462</td>\n",
       "      <td>1.61477</td>\n",
       "    </tr>\n",
       "    <tr>\n",
       "      <th>time_to_revert_hrs_log10</th>\n",
       "      <td>3.45483</td>\n",
       "      <td>2.99498</td>\n",
       "    </tr>\n",
       "    <tr>\n",
       "      <th>reverting_comment_nobracket</th>\n",
       "      <td>機器人 修改:</td>\n",
       "      <td>r2.7.1)</td>\n",
       "    </tr>\n",
       "    <tr>\n",
       "      <th>botpair</th>\n",
       "      <td>Xqbot rv Yonidebot</td>\n",
       "      <td>WikitanvirBot rv Ripchip Bot</td>\n",
       "    </tr>\n",
       "    <tr>\n",
       "      <th>botpair_sorted</th>\n",
       "      <td>['Xqbot', 'Yonidebot']</td>\n",
       "      <td>['Ripchip Bot', 'WikitanvirBot']</td>\n",
       "    </tr>\n",
       "    <tr>\n",
       "      <th>reverts_per_page_botpair</th>\n",
       "      <td>1</td>\n",
       "      <td>1</td>\n",
       "    </tr>\n",
       "    <tr>\n",
       "      <th>reverts_per_page_botpair_sorted</th>\n",
       "      <td>1</td>\n",
       "      <td>1</td>\n",
       "    </tr>\n",
       "    <tr>\n",
       "      <th>bottype</th>\n",
       "      <td>interwiki link cleanup -- method2</td>\n",
       "      <td>interwiki link cleanup -- method2</td>\n",
       "    </tr>\n",
       "    <tr>\n",
       "      <th>bottype_group</th>\n",
       "      <td>interwiki link cleanup -- method2</td>\n",
       "      <td>interwiki link cleanup -- method2</td>\n",
       "    </tr>\n",
       "  </tbody>\n",
       "</table>\n",
       "</div>"
      ],
      "text/plain": [
       "                                                                 0  \\\n",
       "archived                                                     False   \n",
       "language                                                        zh   \n",
       "page_namespace                                                   0   \n",
       "rev_deleted                                                  False   \n",
       "rev_id                                                    10764032   \n",
       "rev_minor_edit                                                True   \n",
       "rev_page                                                    796015   \n",
       "rev_parent_id                                           1.0169e+07   \n",
       "rev_revert_offset                                                1   \n",
       "rev_sha1                           r64h9ccp8u81sv76rchiqlopzvbjz7y   \n",
       "rev_timestamp                                       20090801223520   \n",
       "rev_user                                                    517168   \n",
       "rev_user_text                                            Yonidebot   \n",
       "reverted_to_rev_id                                        10169029   \n",
       "reverting_archived                                           False   \n",
       "reverting_comment                    機器人 修改: [[ru:Карлин, Джордж]]   \n",
       "reverting_deleted                                            False   \n",
       "reverting_id                                              11723436   \n",
       "reverting_minor_edit                                          True   \n",
       "reverting_page                                              796015   \n",
       "reverting_parent_id                                     1.0764e+07   \n",
       "reverting_sha1                     iidynpvgp28zim9y94kg8rx6igy0oda   \n",
       "reverting_timestamp                                 20091128162947   \n",
       "reverting_user                                              563591   \n",
       "reverting_user_text                                          Xqbot   \n",
       "revisions_reverted                                               1   \n",
       "namespace_type                                             article   \n",
       "reverted_timestamp_dt                          2009-08-01 22:35:20   \n",
       "reverting_timestamp_dt                         2009-11-28 16:29:47   \n",
       "time_to_revert                                   118 days 17:54:27   \n",
       "time_to_revert_hrs                                         2849.91   \n",
       "time_to_revert_days                                        118.746   \n",
       "reverting_year                                                2009   \n",
       "time_to_revert_days_log10                                  2.07462   \n",
       "time_to_revert_hrs_log10                                   3.45483   \n",
       "reverting_comment_nobracket                                機器人 修改:   \n",
       "botpair                                         Xqbot rv Yonidebot   \n",
       "botpair_sorted                              ['Xqbot', 'Yonidebot']   \n",
       "reverts_per_page_botpair                                         1   \n",
       "reverts_per_page_botpair_sorted                                  1   \n",
       "bottype                          interwiki link cleanup -- method2   \n",
       "bottype_group                    interwiki link cleanup -- method2   \n",
       "\n",
       "                                                                  1  \n",
       "archived                                                      False  \n",
       "language                                                         zh  \n",
       "page_namespace                                                    0  \n",
       "rev_deleted                                                   False  \n",
       "rev_id                                                     16265305  \n",
       "rev_minor_edit                                                 True  \n",
       "rev_page                                                     796015  \n",
       "rev_parent_id                                           1.62328e+07  \n",
       "rev_revert_offset                                                 1  \n",
       "rev_sha1                            e19g7y6aw3j2k4yw3k6q0o3vn3f69i7  \n",
       "rev_timestamp                                        20110415051810  \n",
       "rev_user                                                     967390  \n",
       "rev_user_text                                           Ripchip Bot  \n",
       "reverted_to_rev_id                                         16232774  \n",
       "reverting_archived                                            False  \n",
       "reverting_comment                r2.7.1) (機器人 修改: [[fa:جرج کارلین]]  \n",
       "reverting_deleted                                             False  \n",
       "reverting_id                                               16609270  \n",
       "reverting_minor_edit                                           True  \n",
       "reverting_page                                               796015  \n",
       "reverting_parent_id                                     1.62653e+07  \n",
       "reverting_sha1                      o6fe72h89xuul14ezc4epmzw0fxlic5  \n",
       "reverting_timestamp                                  20110526094907  \n",
       "reverting_user                                               891729  \n",
       "reverting_user_text                                   WikitanvirBot  \n",
       "revisions_reverted                                                1  \n",
       "namespace_type                                              article  \n",
       "reverted_timestamp_dt                           2011-04-15 05:18:10  \n",
       "reverting_timestamp_dt                          2011-05-26 09:49:07  \n",
       "time_to_revert                                     41 days 04:30:57  \n",
       "time_to_revert_hrs                                          988.516  \n",
       "time_to_revert_days                                         41.1882  \n",
       "reverting_year                                                 2011  \n",
       "time_to_revert_days_log10                                   1.61477  \n",
       "time_to_revert_hrs_log10                                    2.99498  \n",
       "reverting_comment_nobracket                                 r2.7.1)  \n",
       "botpair                                WikitanvirBot rv Ripchip Bot  \n",
       "botpair_sorted                     ['Ripchip Bot', 'WikitanvirBot']  \n",
       "reverts_per_page_botpair                                          1  \n",
       "reverts_per_page_botpair_sorted                                   1  \n",
       "bottype                           interwiki link cleanup -- method2  \n",
       "bottype_group                     interwiki link cleanup -- method2  "
      ]
     },
     "execution_count": 5,
     "metadata": {},
     "output_type": "execute_result"
    }
   ],
   "source": [
    "df_all[0:2].transpose()"
   ]
  },
  {
   "cell_type": "code",
   "execution_count": null,
   "metadata": {
    "collapsed": true
   },
   "outputs": [],
   "source": []
  },
  {
   "cell_type": "markdown",
   "metadata": {},
   "source": [
    "## Descriptive statistics"
   ]
  },
  {
   "cell_type": "markdown",
   "metadata": {},
   "source": [
    "### Number of bot-bot reverts per language over time"
   ]
  },
  {
   "cell_type": "code",
   "execution_count": null,
   "metadata": {
    "collapsed": true
   },
   "outputs": [],
   "source": []
  },
  {
   "cell_type": "code",
   "execution_count": 6,
   "metadata": {
    "collapsed": true
   },
   "outputs": [],
   "source": [
    "gb = df_all[df_all['page_namespace']==0].groupby([\"language\",\"reverting_year\"])"
   ]
  },
  {
   "cell_type": "code",
   "execution_count": 7,
   "metadata": {},
   "outputs": [
    {
     "data": {
      "text/html": [
       "<div>\n",
       "<table border=\"1\" class=\"dataframe\">\n",
       "  <thead>\n",
       "    <tr style=\"text-align: right;\">\n",
       "      <th>language</th>\n",
       "      <th>de</th>\n",
       "      <th>en</th>\n",
       "      <th>es</th>\n",
       "      <th>fr</th>\n",
       "      <th>ja</th>\n",
       "      <th>pt</th>\n",
       "      <th>zh</th>\n",
       "    </tr>\n",
       "    <tr>\n",
       "      <th>reverting_year</th>\n",
       "      <th></th>\n",
       "      <th></th>\n",
       "      <th></th>\n",
       "      <th></th>\n",
       "      <th></th>\n",
       "      <th></th>\n",
       "      <th></th>\n",
       "    </tr>\n",
       "  </thead>\n",
       "  <tbody>\n",
       "    <tr>\n",
       "      <th>2004</th>\n",
       "      <td>6.0</td>\n",
       "      <td>2.0</td>\n",
       "      <td>NaN</td>\n",
       "      <td>2.0</td>\n",
       "      <td>284.0</td>\n",
       "      <td>1.0</td>\n",
       "      <td>5.0</td>\n",
       "    </tr>\n",
       "    <tr>\n",
       "      <th>2005</th>\n",
       "      <td>375.0</td>\n",
       "      <td>109.0</td>\n",
       "      <td>493.0</td>\n",
       "      <td>227.0</td>\n",
       "      <td>29.0</td>\n",
       "      <td>205.0</td>\n",
       "      <td>20.0</td>\n",
       "    </tr>\n",
       "    <tr>\n",
       "      <th>2006</th>\n",
       "      <td>436.0</td>\n",
       "      <td>1112.0</td>\n",
       "      <td>796.0</td>\n",
       "      <td>738.0</td>\n",
       "      <td>117.0</td>\n",
       "      <td>722.0</td>\n",
       "      <td>188.0</td>\n",
       "    </tr>\n",
       "    <tr>\n",
       "      <th>2007</th>\n",
       "      <td>1379.0</td>\n",
       "      <td>5490.0</td>\n",
       "      <td>1691.0</td>\n",
       "      <td>2191.0</td>\n",
       "      <td>903.0</td>\n",
       "      <td>3187.0</td>\n",
       "      <td>634.0</td>\n",
       "    </tr>\n",
       "    <tr>\n",
       "      <th>2008</th>\n",
       "      <td>3226.0</td>\n",
       "      <td>13319.0</td>\n",
       "      <td>3112.0</td>\n",
       "      <td>3737.0</td>\n",
       "      <td>2189.0</td>\n",
       "      <td>2702.0</td>\n",
       "      <td>2105.0</td>\n",
       "    </tr>\n",
       "    <tr>\n",
       "      <th>2009</th>\n",
       "      <td>4703.0</td>\n",
       "      <td>16987.0</td>\n",
       "      <td>3414.0</td>\n",
       "      <td>4347.0</td>\n",
       "      <td>3198.0</td>\n",
       "      <td>5319.0</td>\n",
       "      <td>2771.0</td>\n",
       "    </tr>\n",
       "    <tr>\n",
       "      <th>2010</th>\n",
       "      <td>4969.0</td>\n",
       "      <td>13512.0</td>\n",
       "      <td>7114.0</td>\n",
       "      <td>5793.0</td>\n",
       "      <td>5278.0</td>\n",
       "      <td>4850.0</td>\n",
       "      <td>4453.0</td>\n",
       "    </tr>\n",
       "    <tr>\n",
       "      <th>2011</th>\n",
       "      <td>10386.0</td>\n",
       "      <td>30639.0</td>\n",
       "      <td>16907.0</td>\n",
       "      <td>14403.0</td>\n",
       "      <td>7642.0</td>\n",
       "      <td>15414.0</td>\n",
       "      <td>6322.0</td>\n",
       "    </tr>\n",
       "    <tr>\n",
       "      <th>2012</th>\n",
       "      <td>9549.0</td>\n",
       "      <td>26229.0</td>\n",
       "      <td>9139.0</td>\n",
       "      <td>9746.0</td>\n",
       "      <td>6888.0</td>\n",
       "      <td>7936.0</td>\n",
       "      <td>5747.0</td>\n",
       "    </tr>\n",
       "    <tr>\n",
       "      <th>2013</th>\n",
       "      <td>19214.0</td>\n",
       "      <td>99694.0</td>\n",
       "      <td>21270.0</td>\n",
       "      <td>14217.0</td>\n",
       "      <td>6854.0</td>\n",
       "      <td>17900.0</td>\n",
       "      <td>19103.0</td>\n",
       "    </tr>\n",
       "    <tr>\n",
       "      <th>2014</th>\n",
       "      <td>481.0</td>\n",
       "      <td>11330.0</td>\n",
       "      <td>1972.0</td>\n",
       "      <td>282.0</td>\n",
       "      <td>827.0</td>\n",
       "      <td>232.0</td>\n",
       "      <td>858.0</td>\n",
       "    </tr>\n",
       "    <tr>\n",
       "      <th>2015</th>\n",
       "      <td>148.0</td>\n",
       "      <td>13432.0</td>\n",
       "      <td>1148.0</td>\n",
       "      <td>401.0</td>\n",
       "      <td>236.0</td>\n",
       "      <td>1520.0</td>\n",
       "      <td>675.0</td>\n",
       "    </tr>\n",
       "    <tr>\n",
       "      <th>2016</th>\n",
       "      <td>35.0</td>\n",
       "      <td>12544.0</td>\n",
       "      <td>924.0</td>\n",
       "      <td>171.0</td>\n",
       "      <td>159.0</td>\n",
       "      <td>47.0</td>\n",
       "      <td>134.0</td>\n",
       "    </tr>\n",
       "  </tbody>\n",
       "</table>\n",
       "</div>"
      ],
      "text/plain": [
       "language             de       en       es       fr      ja       pt       zh\n",
       "reverting_year                                                              \n",
       "2004                6.0      2.0      NaN      2.0   284.0      1.0      5.0\n",
       "2005              375.0    109.0    493.0    227.0    29.0    205.0     20.0\n",
       "2006              436.0   1112.0    796.0    738.0   117.0    722.0    188.0\n",
       "2007             1379.0   5490.0   1691.0   2191.0   903.0   3187.0    634.0\n",
       "2008             3226.0  13319.0   3112.0   3737.0  2189.0   2702.0   2105.0\n",
       "2009             4703.0  16987.0   3414.0   4347.0  3198.0   5319.0   2771.0\n",
       "2010             4969.0  13512.0   7114.0   5793.0  5278.0   4850.0   4453.0\n",
       "2011            10386.0  30639.0  16907.0  14403.0  7642.0  15414.0   6322.0\n",
       "2012             9549.0  26229.0   9139.0   9746.0  6888.0   7936.0   5747.0\n",
       "2013            19214.0  99694.0  21270.0  14217.0  6854.0  17900.0  19103.0\n",
       "2014              481.0  11330.0   1972.0    282.0   827.0    232.0    858.0\n",
       "2015              148.0  13432.0   1148.0    401.0   236.0   1520.0    675.0\n",
       "2016               35.0  12544.0    924.0    171.0   159.0     47.0    134.0"
      ]
     },
     "execution_count": 7,
     "metadata": {},
     "output_type": "execute_result"
    }
   ],
   "source": [
    "sns.set(font_scale=1.5)\n",
    "gb['rev_id'].count().unstack().transpose()"
   ]
  },
  {
   "cell_type": "code",
   "execution_count": null,
   "metadata": {
    "collapsed": true
   },
   "outputs": [],
   "source": []
  },
  {
   "cell_type": "code",
   "execution_count": 8,
   "metadata": {},
   "outputs": [
    {
     "data": {
      "text/plain": [
       "language\n",
       "de     54907.0\n",
       "en    244399.0\n",
       "es     67980.0\n",
       "fr     56255.0\n",
       "ja     34604.0\n",
       "pt     60035.0\n",
       "zh     43015.0\n",
       "dtype: float64"
      ]
     },
     "execution_count": 8,
     "metadata": {},
     "output_type": "execute_result"
    }
   ],
   "source": [
    "gb['rev_id'].count().unstack().transpose().sum()"
   ]
  },
  {
   "cell_type": "code",
   "execution_count": 9,
   "metadata": {},
   "outputs": [
    {
     "data": {
      "text/plain": [
       "561195.0"
      ]
     },
     "execution_count": 9,
     "metadata": {},
     "output_type": "execute_result"
    }
   ],
   "source": [
    "gb['rev_id'].count().unstack().transpose().sum().sum()"
   ]
  },
  {
   "cell_type": "code",
   "execution_count": null,
   "metadata": {
    "collapsed": true
   },
   "outputs": [],
   "source": []
  },
  {
   "cell_type": "code",
   "execution_count": 10,
   "metadata": {},
   "outputs": [
    {
     "data": {
      "image/png": "[encoded data removed]",
      "text/plain": [
       "<matplotlib.figure.Figure at 0x7f1c664cdcf8>"
      ]
     },
     "metadata": {},
     "output_type": "display_data"
    }
   ],
   "source": [
    "sns.set(font_scale=1.5)\n",
    "sns.set_style(\"whitegrid\")\n",
    "\n",
    "groupby_unstack = gb['revisions_reverted'].count().unstack().transpose()\n",
    "ax = groupby_unstack.plot(kind='line', logy=True, figsize=[10,6], colormap=\"Accent\")    \n",
    "\n",
    "plt.xlim(2004,2018)\n",
    "\n",
    "plt.ylabel(\"Number of bot-bot reverts (log scaled)\")\n",
    "plt.xlabel(\"Year of reverting edit\")\n",
    "plt.suptitle(\"Bot-bot reverts per language by reverting year, articles only\")\n",
    "\n",
    "leg = plt.legend()\n",
    "for legobj in leg.legendHandles:\n",
    "    legobj.set_linewidth(8.0)"
   ]
  },
  {
   "cell_type": "code",
   "execution_count": null,
   "metadata": {
    "collapsed": true
   },
   "outputs": [],
   "source": []
  },
  {
   "cell_type": "code",
   "execution_count": null,
   "metadata": {
    "collapsed": true
   },
   "outputs": [],
   "source": []
  },
  {
   "cell_type": "code",
   "execution_count": 11,
   "metadata": {},
   "outputs": [
    {
     "data": {
      "text/html": [
       "<div>\n",
       "<table border=\"1\" class=\"dataframe\">\n",
       "  <thead>\n",
       "    <tr style=\"text-align: right;\">\n",
       "      <th>language</th>\n",
       "      <th>de</th>\n",
       "      <th>en</th>\n",
       "      <th>es</th>\n",
       "      <th>fr</th>\n",
       "      <th>ja</th>\n",
       "      <th>pt</th>\n",
       "      <th>zh</th>\n",
       "    </tr>\n",
       "    <tr>\n",
       "      <th>namespace_type</th>\n",
       "      <th></th>\n",
       "      <th></th>\n",
       "      <th></th>\n",
       "      <th></th>\n",
       "      <th></th>\n",
       "      <th></th>\n",
       "      <th></th>\n",
       "    </tr>\n",
       "  </thead>\n",
       "  <tbody>\n",
       "    <tr>\n",
       "      <th>article</th>\n",
       "      <td>54907</td>\n",
       "      <td>244399</td>\n",
       "      <td>67980</td>\n",
       "      <td>56255</td>\n",
       "      <td>34604</td>\n",
       "      <td>60035</td>\n",
       "      <td>43015</td>\n",
       "    </tr>\n",
       "    <tr>\n",
       "      <th>category</th>\n",
       "      <td>10596</td>\n",
       "      <td>105006</td>\n",
       "      <td>19128</td>\n",
       "      <td>21127</td>\n",
       "      <td>10087</td>\n",
       "      <td>9940</td>\n",
       "      <td>6717</td>\n",
       "    </tr>\n",
       "    <tr>\n",
       "      <th>other page</th>\n",
       "      <td>1028</td>\n",
       "      <td>108041</td>\n",
       "      <td>1544</td>\n",
       "      <td>617</td>\n",
       "      <td>277</td>\n",
       "      <td>536</td>\n",
       "      <td>1454</td>\n",
       "    </tr>\n",
       "    <tr>\n",
       "      <th>other talk</th>\n",
       "      <td>2388</td>\n",
       "      <td>43107</td>\n",
       "      <td>32</td>\n",
       "      <td>18534</td>\n",
       "      <td>22</td>\n",
       "      <td>358</td>\n",
       "      <td>237</td>\n",
       "    </tr>\n",
       "  </tbody>\n",
       "</table>\n",
       "</div>"
      ],
      "text/plain": [
       "language           de      en     es     fr     ja     pt     zh\n",
       "namespace_type                                                  \n",
       "article         54907  244399  67980  56255  34604  60035  43015\n",
       "category        10596  105006  19128  21127  10087   9940   6717\n",
       "other page       1028  108041   1544    617    277    536   1454\n",
       "other talk       2388   43107     32  18534     22    358    237"
      ]
     },
     "execution_count": 11,
     "metadata": {},
     "output_type": "execute_result"
    }
   ],
   "source": [
    "gb_lang_nstype = df_all.groupby([\"language\", \"namespace_type\"])\n",
    "\n",
    "gb_lang_nstype['revisions_reverted'].count().unstack().transpose()"
   ]
  },
  {
   "cell_type": "code",
   "execution_count": 12,
   "metadata": {},
   "outputs": [
    {
     "data": {
      "text/plain": [
       "language\n",
       "de     68919\n",
       "en    500553\n",
       "es     88684\n",
       "fr     96533\n",
       "ja     44990\n",
       "pt     70869\n",
       "zh     51423\n",
       "dtype: int64"
      ]
     },
     "execution_count": 12,
     "metadata": {},
     "output_type": "execute_result"
    }
   ],
   "source": [
    "gb_lang_nstype['revisions_reverted'].count().unstack().transpose().sum()"
   ]
  },
  {
   "cell_type": "code",
   "execution_count": 13,
   "metadata": {},
   "outputs": [
    {
     "data": {
      "text/plain": [
       "namespace_type\n",
       "article       561195\n",
       "category      182601\n",
       "other page    113497\n",
       "other talk     64678\n",
       "dtype: int64"
      ]
     },
     "execution_count": 13,
     "metadata": {},
     "output_type": "execute_result"
    }
   ],
   "source": [
    "gb_lang_nstype['revisions_reverted'].count().unstack().sum()"
   ]
  },
  {
   "cell_type": "code",
   "execution_count": 14,
   "metadata": {},
   "outputs": [
    {
     "data": {
      "text/plain": [
       "article       561195\n",
       "category      182601\n",
       "other page    113497\n",
       "other talk     64678\n",
       "Name: namespace_type, dtype: int64"
      ]
     },
     "execution_count": 14,
     "metadata": {},
     "output_type": "execute_result"
    }
   ],
   "source": [
    "df_all['namespace_type'].value_counts()"
   ]
  },
  {
   "cell_type": "code",
   "execution_count": 15,
   "metadata": {},
   "outputs": [
    {
     "data": {
      "text/plain": [
       "921971"
      ]
     },
     "execution_count": 15,
     "metadata": {},
     "output_type": "execute_result"
    }
   ],
   "source": [
    "gb_lang_nstype['revisions_reverted'].count().unstack().sum().sum()"
   ]
  },
  {
   "cell_type": "code",
   "execution_count": 16,
   "metadata": {},
   "outputs": [
    {
     "data": {
      "text/plain": [
       "article       0.608691\n",
       "category      0.198055\n",
       "other page    0.123103\n",
       "other talk    0.070152\n",
       "Name: namespace_type, dtype: float64"
      ]
     },
     "execution_count": 16,
     "metadata": {},
     "output_type": "execute_result"
    }
   ],
   "source": [
    "df_all['namespace_type'].value_counts(normalize=True)"
   ]
  },
  {
   "cell_type": "code",
   "execution_count": 17,
   "metadata": {},
   "outputs": [
    {
     "data": {
      "image/png": "[encoded data removed]",
      "text/plain": [
       "<matplotlib.figure.Figure at 0x7f1c61243cf8>"
      ]
     },
     "metadata": {},
     "output_type": "display_data"
    }
   ],
   "source": [
    "sns.set(font_scale=2)\n",
    "sns.set_style(\"whitegrid\")\n",
    "\n",
    "g = sns.factorplot(data=df_all,\n",
    "                   x='language',\n",
    "                   y=None,\n",
    "                   hue='namespace_type',\n",
    "                   kind='count',\n",
    "                   size=8,\n",
    "                   palette=\"Accent\",\n",
    "                   aspect = 1)"
   ]
  },
  {
   "cell_type": "code",
   "execution_count": null,
   "metadata": {
    "collapsed": true
   },
   "outputs": [],
   "source": []
  },
  {
   "cell_type": "code",
   "execution_count": null,
   "metadata": {
    "collapsed": true
   },
   "outputs": [],
   "source": []
  }
 ],
 "metadata": {
  "anaconda-cloud": {},
  "kernelspec": {
   "display_name": "Python [default]",
   "language": "python",
   "name": "python3"
  },
  "language_info": {
   "codemirror_mode": {
    "name": "ipython",
    "version": 3
   },
   "file_extension": ".py",
   "mimetype": "text/x-python",
   "name": "python",
   "nbconvert_exporter": "python",
   "pygments_lexer": "ipython3",
   "version": "3.5.3"
  }
 },
 "nbformat": 4,
 "nbformat_minor": 2
}
