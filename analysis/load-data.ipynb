{
 "cells": [
  {
   "cell_type": "code",
   "execution_count": 1,
   "metadata": {
    "collapsed": true
   },
   "outputs": [],
   "source": [
    "import pandas as pd\n",
    "import seaborn as sns\n",
    "import matplotlib.pyplot as plt\n",
    "import numpy as np\n",
    "import glob\n",
    "import datetime\n",
    "%matplotlib inline\n",
    "\n",
    "pd.set_option(\"display.max_columns\",100)"
   ]
  },
  {
   "cell_type": "code",
   "execution_count": null,
   "metadata": {
    "collapsed": true
   },
   "outputs": [],
   "source": []
  },
  {
   "cell_type": "code",
   "execution_count": 2,
   "metadata": {},
   "outputs": [],
   "source": [
    "start = datetime.datetime.now()"
   ]
  },
  {
   "cell_type": "markdown",
   "metadata": {},
   "source": [
    "## Data processing"
   ]
  },
  {
   "cell_type": "code",
   "execution_count": 3,
   "metadata": {},
   "outputs": [
    {
     "data": {
      "text/plain": [
       "['../datasets/enwiki_20161201_reverted_bot2bot.tsv',\n",
       " '../datasets/zhwiki_20161001_reverted_bot2bot.tsv',\n",
       " '../datasets/frwiki_20161001_reverted_bot2bot.tsv',\n",
       " '../datasets/jawiki_20161001_reverted_bot2bot.tsv',\n",
       " '../datasets/eswiki_20161001_reverted_bot2bot.tsv',\n",
       " '../datasets/ptwiki_20161001_reverted_bot2bot.tsv',\n",
       " '../datasets/dewiki_20161001_reverted_bot2bot.tsv']"
      ]
     },
     "execution_count": 3,
     "metadata": {},
     "output_type": "execute_result"
    }
   ],
   "source": [
    "glob.glob(\"../datasets/??wiki_20161?01_*bot2bot.tsv\")"
   ]
  },
  {
   "cell_type": "code",
   "execution_count": 4,
   "metadata": {
    "collapsed": true
   },
   "outputs": [],
   "source": [
    "df_dict = {}\n",
    "for filename in glob.glob(\"../datasets/*bot2bot.tsv\"):\n",
    "    lang_code = filename[12:14]\n",
    "    df_dict[lang_code] = pd.read_csv(filename, sep=\"\\t\")\n",
    "    df_dict[lang_code] = df_dict[lang_code].drop_duplicates()"
   ]
  },
  {
   "cell_type": "code",
   "execution_count": null,
   "metadata": {
    "collapsed": true
   },
   "outputs": [],
   "source": []
  },
  {
   "cell_type": "code",
   "execution_count": 5,
   "metadata": {},
   "outputs": [
    {
     "name": "stdout",
     "output_type": "stream",
     "text": [
      "zh 51423\n",
      "fr 96533\n",
      "pt 70869\n",
      "de 68922\n",
      "en 500553\n",
      "ja 44990\n",
      "es 88684\n"
     ]
    }
   ],
   "source": [
    "for lang, lang_df in df_dict.items():\n",
    "    print(lang, len(lang_df))"
   ]
  },
  {
   "cell_type": "code",
   "execution_count": 6,
   "metadata": {},
   "outputs": [
    {
     "data": {
      "text/html": [
       "<div>\n",
       "<table border=\"1\" class=\"dataframe\">\n",
       "  <thead>\n",
       "    <tr style=\"text-align: right;\">\n",
       "      <th></th>\n",
       "      <th>0</th>\n",
       "      <th>1</th>\n",
       "    </tr>\n",
       "  </thead>\n",
       "  <tbody>\n",
       "    <tr>\n",
       "      <th>rev_id</th>\n",
       "      <td>273691771</td>\n",
       "      <td>136526894</td>\n",
       "    </tr>\n",
       "    <tr>\n",
       "      <th>rev_timestamp</th>\n",
       "      <td>20090227173507</td>\n",
       "      <td>20070607044209</td>\n",
       "    </tr>\n",
       "    <tr>\n",
       "      <th>rev_user</th>\n",
       "      <td>6505923</td>\n",
       "      <td>4534303</td>\n",
       "    </tr>\n",
       "    <tr>\n",
       "      <th>rev_user_text</th>\n",
       "      <td>Kbdankbot</td>\n",
       "      <td>PbBot</td>\n",
       "    </tr>\n",
       "    <tr>\n",
       "      <th>rev_page</th>\n",
       "      <td>5040439</td>\n",
       "      <td>3046554</td>\n",
       "    </tr>\n",
       "    <tr>\n",
       "      <th>rev_sha1</th>\n",
       "      <td>qj45ne2z4yfexmpaz5wfnbm2yrmqt4j</td>\n",
       "      <td>3xtnw7u4w9h6cg1smw97mqnr1en6a55</td>\n",
       "    </tr>\n",
       "    <tr>\n",
       "      <th>rev_minor_edit</th>\n",
       "      <td>False</td>\n",
       "      <td>False</td>\n",
       "    </tr>\n",
       "    <tr>\n",
       "      <th>rev_deleted</th>\n",
       "      <td>False</td>\n",
       "      <td>False</td>\n",
       "    </tr>\n",
       "    <tr>\n",
       "      <th>rev_parent_id</th>\n",
       "      <td>2.59117e+08</td>\n",
       "      <td>1.20932e+08</td>\n",
       "    </tr>\n",
       "    <tr>\n",
       "      <th>archived</th>\n",
       "      <td>False</td>\n",
       "      <td>False</td>\n",
       "    </tr>\n",
       "    <tr>\n",
       "      <th>reverting_id</th>\n",
       "      <td>273789753</td>\n",
       "      <td>269875438</td>\n",
       "    </tr>\n",
       "    <tr>\n",
       "      <th>reverting_timestamp</th>\n",
       "      <td>20090228021925</td>\n",
       "      <td>20090210230337</td>\n",
       "    </tr>\n",
       "    <tr>\n",
       "      <th>reverting_user</th>\n",
       "      <td>1215485</td>\n",
       "      <td>7328338</td>\n",
       "    </tr>\n",
       "    <tr>\n",
       "      <th>reverting_user_text</th>\n",
       "      <td>Cydebot</td>\n",
       "      <td>Yobot</td>\n",
       "    </tr>\n",
       "    <tr>\n",
       "      <th>reverting_page</th>\n",
       "      <td>5040439</td>\n",
       "      <td>3046554</td>\n",
       "    </tr>\n",
       "    <tr>\n",
       "      <th>reverting_sha1</th>\n",
       "      <td>od1e685o9f5j7dtpd9zp2fhew3agjeq</td>\n",
       "      <td>f8ye1kj73h0ymwqj6rlsimwk3jd9tef</td>\n",
       "    </tr>\n",
       "    <tr>\n",
       "      <th>reverting_minor_edit</th>\n",
       "      <td>True</td>\n",
       "      <td>True</td>\n",
       "    </tr>\n",
       "    <tr>\n",
       "      <th>reverting_deleted</th>\n",
       "      <td>False</td>\n",
       "      <td>False</td>\n",
       "    </tr>\n",
       "    <tr>\n",
       "      <th>reverting_parent_id</th>\n",
       "      <td>2.73692e+08</td>\n",
       "      <td>1.36527e+08</td>\n",
       "    </tr>\n",
       "    <tr>\n",
       "      <th>reverting_archived</th>\n",
       "      <td>False</td>\n",
       "      <td>False</td>\n",
       "    </tr>\n",
       "    <tr>\n",
       "      <th>reverting_comment</th>\n",
       "      <td>Robot - Speedily moving category 9th-century i...</td>\n",
       "      <td>Removing {{1911 talk}} per [[Wikipedia:Templat...</td>\n",
       "    </tr>\n",
       "    <tr>\n",
       "      <th>rev_revert_offset</th>\n",
       "      <td>1</td>\n",
       "      <td>1</td>\n",
       "    </tr>\n",
       "    <tr>\n",
       "      <th>revisions_reverted</th>\n",
       "      <td>1</td>\n",
       "      <td>1</td>\n",
       "    </tr>\n",
       "    <tr>\n",
       "      <th>reverted_to_rev_id</th>\n",
       "      <td>259117355</td>\n",
       "      <td>120932016</td>\n",
       "    </tr>\n",
       "    <tr>\n",
       "      <th>page_namespace</th>\n",
       "      <td>0</td>\n",
       "      <td>1</td>\n",
       "    </tr>\n",
       "  </tbody>\n",
       "</table>\n",
       "</div>"
      ],
      "text/plain": [
       "                                                                      0  \\\n",
       "rev_id                                                        273691771   \n",
       "rev_timestamp                                            20090227173507   \n",
       "rev_user                                                        6505923   \n",
       "rev_user_text                                                 Kbdankbot   \n",
       "rev_page                                                        5040439   \n",
       "rev_sha1                                qj45ne2z4yfexmpaz5wfnbm2yrmqt4j   \n",
       "rev_minor_edit                                                    False   \n",
       "rev_deleted                                                       False   \n",
       "rev_parent_id                                               2.59117e+08   \n",
       "archived                                                          False   \n",
       "reverting_id                                                  273789753   \n",
       "reverting_timestamp                                      20090228021925   \n",
       "reverting_user                                                  1215485   \n",
       "reverting_user_text                                             Cydebot   \n",
       "reverting_page                                                  5040439   \n",
       "reverting_sha1                          od1e685o9f5j7dtpd9zp2fhew3agjeq   \n",
       "reverting_minor_edit                                               True   \n",
       "reverting_deleted                                                 False   \n",
       "reverting_parent_id                                         2.73692e+08   \n",
       "reverting_archived                                                False   \n",
       "reverting_comment     Robot - Speedily moving category 9th-century i...   \n",
       "rev_revert_offset                                                     1   \n",
       "revisions_reverted                                                    1   \n",
       "reverted_to_rev_id                                            259117355   \n",
       "page_namespace                                                        0   \n",
       "\n",
       "                                                                      1  \n",
       "rev_id                                                        136526894  \n",
       "rev_timestamp                                            20070607044209  \n",
       "rev_user                                                        4534303  \n",
       "rev_user_text                                                     PbBot  \n",
       "rev_page                                                        3046554  \n",
       "rev_sha1                                3xtnw7u4w9h6cg1smw97mqnr1en6a55  \n",
       "rev_minor_edit                                                    False  \n",
       "rev_deleted                                                       False  \n",
       "rev_parent_id                                               1.20932e+08  \n",
       "archived                                                          False  \n",
       "reverting_id                                                  269875438  \n",
       "reverting_timestamp                                      20090210230337  \n",
       "reverting_user                                                  7328338  \n",
       "reverting_user_text                                               Yobot  \n",
       "reverting_page                                                  3046554  \n",
       "reverting_sha1                          f8ye1kj73h0ymwqj6rlsimwk3jd9tef  \n",
       "reverting_minor_edit                                               True  \n",
       "reverting_deleted                                                 False  \n",
       "reverting_parent_id                                         1.36527e+08  \n",
       "reverting_archived                                                False  \n",
       "reverting_comment     Removing {{1911 talk}} per [[Wikipedia:Templat...  \n",
       "rev_revert_offset                                                     1  \n",
       "revisions_reverted                                                    1  \n",
       "reverted_to_rev_id                                            120932016  \n",
       "page_namespace                                                        1  "
      ]
     },
     "execution_count": 6,
     "metadata": {},
     "output_type": "execute_result"
    }
   ],
   "source": [
    "df_dict['en'][0:2].transpose()"
   ]
  },
  {
   "cell_type": "markdown",
   "metadata": {},
   "source": [
    "### Combining into one tidy dataframe"
   ]
  },
  {
   "cell_type": "code",
   "execution_count": 7,
   "metadata": {
    "collapsed": true
   },
   "outputs": [],
   "source": [
    "df_all = df_dict['en'].copy()\n",
    "df_all = df_all.drop(df_all.index, axis=0)\n",
    "\n",
    "for lang, lang_df in df_dict.items():\n",
    "    lang_df['language'] = lang\n",
    "    df_all = pd.concat([df_all, lang_df])"
   ]
  },
  {
   "cell_type": "code",
   "execution_count": 8,
   "metadata": {},
   "outputs": [
    {
     "data": {
      "text/plain": [
       "en    500553\n",
       "fr     96533\n",
       "es     88684\n",
       "pt     70869\n",
       "de     68922\n",
       "zh     51423\n",
       "ja     44990\n",
       "Name: language, dtype: int64"
      ]
     },
     "execution_count": 8,
     "metadata": {},
     "output_type": "execute_result"
    }
   ],
   "source": [
    "df_all['language'].value_counts()"
   ]
  },
  {
   "cell_type": "markdown",
   "metadata": {},
   "source": [
    "### Namespace type"
   ]
  },
  {
   "cell_type": "code",
   "execution_count": 9,
   "metadata": {
    "collapsed": true
   },
   "outputs": [],
   "source": [
    "def namespace_type(item):\n",
    "    if int(item) == 0:\n",
    "        return 'article'\n",
    "    elif int(item) == 14:\n",
    "        return 'category'\n",
    "    elif int(item) % 2 == 1:\n",
    "        return 'other talk'\n",
    "    else:\n",
    "        return 'other page'"
   ]
  },
  {
   "cell_type": "code",
   "execution_count": 10,
   "metadata": {
    "collapsed": true
   },
   "outputs": [],
   "source": [
    "df_all['namespace_type'] = df_all['page_namespace'].apply(namespace_type)"
   ]
  },
  {
   "cell_type": "code",
   "execution_count": 11,
   "metadata": {},
   "outputs": [
    {
     "data": {
      "text/plain": [
       "article       561197\n",
       "category      182601\n",
       "other page    113498\n",
       "other talk     64678\n",
       "Name: namespace_type, dtype: int64"
      ]
     },
     "execution_count": 11,
     "metadata": {},
     "output_type": "execute_result"
    }
   ],
   "source": [
    "df_all['namespace_type'].value_counts()"
   ]
  },
  {
   "cell_type": "markdown",
   "metadata": {},
   "source": [
    "### Datetime parsing"
   ]
  },
  {
   "cell_type": "code",
   "execution_count": 12,
   "metadata": {
    "collapsed": true
   },
   "outputs": [],
   "source": [
    "def get_year(timestamp):\n",
    "    return timestamp.year"
   ]
  },
  {
   "cell_type": "code",
   "execution_count": 13,
   "metadata": {
    "collapsed": true
   },
   "outputs": [],
   "source": [
    "df_all['reverting_timestamp_dt'] = pd.to_datetime(df_all['reverting_timestamp'], format=\"%Y%m%d%H%M%S\")\n",
    "\n",
    "df_all['reverted_timestamp_dt'] = pd.to_datetime(df_all['rev_timestamp'], format=\"%Y%m%d%H%M%S\")\n",
    "\n",
    "df_all = df_all.set_index('reverting_timestamp_dt')\n",
    "\n",
    "df_all['reverting_timestamp_dt'] = pd.to_datetime(df_all['reverting_timestamp'], format=\"%Y%m%d%H%M%S\")\n",
    "\n",
    "df_all['time_to_revert'] = df_all['reverting_timestamp_dt']-df_all['reverted_timestamp_dt']\n",
    "\n",
    "df_all['time_to_revert_hrs'] = df_all['time_to_revert'].astype('timedelta64[s]')/(60*60)\n",
    "\n",
    "df_all['time_to_revert_days'] = df_all['time_to_revert'].astype('timedelta64[s]')/(60*60*24)\n",
    "\n",
    "df_all['reverting_year'] = df_all['reverting_timestamp_dt'].apply(get_year)\n",
    "\n",
    "df_all['time_to_revert_days_log10'] = df_all['time_to_revert_days'].apply(np.log10)\n",
    "\n",
    "df_all['time_to_revert_hrs_log10'] = df_all['time_to_revert_hrs'].apply(np.log10)"
   ]
  },
  {
   "cell_type": "markdown",
   "metadata": {},
   "source": [
    "### Filter all datasets to the same time bounds: 2001 to 2016"
   ]
  },
  {
   "cell_type": "code",
   "execution_count": 14,
   "metadata": {
    "collapsed": true
   },
   "outputs": [],
   "source": [
    "df_all = df_all.ix[\"2001-01-01\":\"2016-12-31\"]"
   ]
  },
  {
   "cell_type": "markdown",
   "metadata": {},
   "source": [
    "#### Counts per year: en"
   ]
  },
  {
   "cell_type": "code",
   "execution_count": 15,
   "metadata": {},
   "outputs": [
    {
     "data": {
      "text/plain": [
       "2004         2\n",
       "2005       131\n",
       "2006      3119\n",
       "2007     17042\n",
       "2008     33114\n",
       "2009     36423\n",
       "2010     30890\n",
       "2011     63407\n",
       "2012     48042\n",
       "2013    201562\n",
       "2014     20594\n",
       "2015     24597\n",
       "2016     21630\n",
       "Name: reverting_year, dtype: int64"
      ]
     },
     "execution_count": 15,
     "metadata": {},
     "output_type": "execute_result"
    }
   ],
   "source": [
    "df_all[df_all['language']=='en'].reverting_year.value_counts().sort_index()"
   ]
  },
  {
   "cell_type": "markdown",
   "metadata": {},
   "source": [
    "#### Counts per year: all"
   ]
  },
  {
   "cell_type": "code",
   "execution_count": 16,
   "metadata": {},
   "outputs": [
    {
     "data": {
      "text/plain": [
       "2004       302\n",
       "2005      1598\n",
       "2006      6357\n",
       "2007     29425\n",
       "2008     54989\n",
       "2009     81548\n",
       "2010     68500\n",
       "2011    147002\n",
       "2012    103119\n",
       "2013    342624\n",
       "2014     26733\n",
       "2015     35413\n",
       "2016     24364\n",
       "Name: reverting_year, dtype: int64"
      ]
     },
     "execution_count": 16,
     "metadata": {},
     "output_type": "execute_result"
    }
   ],
   "source": [
    "df_all.reverting_year.value_counts().sort_index()"
   ]
  },
  {
   "cell_type": "markdown",
   "metadata": {},
   "source": [
    "## Other processing and metadata"
   ]
  },
  {
   "cell_type": "markdown",
   "metadata": {},
   "source": [
    "### Comment parsing: removing text in brackets/parens\n",
    "\n",
    "Function for removing text within square brackets or parentheses, which is useful for aggregating comment messages."
   ]
  },
  {
   "cell_type": "code",
   "execution_count": 17,
   "metadata": {
    "collapsed": true
   },
   "outputs": [],
   "source": [
    "# by http://stackoverflow.com/questions/14596884/remove-text-between-and-in-python\n",
    "\n",
    "def remove_brackets(test_str):\n",
    "    \"\"\"\n",
    "    Takes a string and returns that string with text in brackets and parentheses removed\n",
    "    \"\"\"\n",
    "    \n",
    "    test_str = str(test_str)\n",
    "    ret = ''\n",
    "    skip1c = 0\n",
    "    skip2c = 0\n",
    "    for i in test_str:\n",
    "        if i == '[':\n",
    "            skip1c += 1\n",
    "        elif i == '(':\n",
    "            skip2c += 1\n",
    "        elif i == ']' and skip1c > 0:\n",
    "            skip1c -= 1\n",
    "        elif i == ')'and skip2c > 0:\n",
    "            skip2c -= 1\n",
    "        elif skip1c == 0 and skip2c == 0:\n",
    "            ret += i\n",
    "            \n",
    "    return \" \".join(ret.split())"
   ]
  },
  {
   "cell_type": "code",
   "execution_count": 18,
   "metadata": {
    "collapsed": true
   },
   "outputs": [],
   "source": [
    "df_all['reverting_comment_nobracket'] = df_all['reverting_comment'].apply(remove_brackets)"
   ]
  },
  {
   "cell_type": "code",
   "execution_count": null,
   "metadata": {
    "collapsed": true
   },
   "outputs": [],
   "source": []
  },
  {
   "cell_type": "markdown",
   "metadata": {},
   "source": [
    "### botpair and botpair_sorted"
   ]
  },
  {
   "cell_type": "code",
   "execution_count": 19,
   "metadata": {
    "collapsed": true
   },
   "outputs": [],
   "source": [
    "def concat_botpair(row):\n",
    "    return str(row['reverting_user_text']) + \" rv \" + str(row['rev_user_text'])\n",
    "\n",
    "def sorted_botpair(row):\n",
    "    \"\"\"\n",
    "    Returns a sorted list. list.sort() is locale dependent, but it doesn't matter\n",
    "    because all we need is some consistent (if arbitrary) way of uniquely sorting.\n",
    "    \"\"\"\n",
    "    \n",
    "    return str(sorted([row['reverting_user_text'], row['rev_user_text']]))"
   ]
  },
  {
   "cell_type": "code",
   "execution_count": 20,
   "metadata": {
    "collapsed": true
   },
   "outputs": [],
   "source": [
    "df_all['botpair'] = df_all.apply(concat_botpair, axis=1)"
   ]
  },
  {
   "cell_type": "code",
   "execution_count": 21,
   "metadata": {
    "collapsed": true
   },
   "outputs": [],
   "source": [
    "df_all['botpair_sorted'] = df_all.apply(sorted_botpair, axis=1)"
   ]
  },
  {
   "cell_type": "markdown",
   "metadata": {},
   "source": [
    "### Namespace type"
   ]
  },
  {
   "cell_type": "code",
   "execution_count": 22,
   "metadata": {
    "collapsed": true
   },
   "outputs": [],
   "source": [
    "def namespace_type(item):\n",
    "    if int(item) == 0:\n",
    "        return 'article'\n",
    "    elif int(item) == 14:\n",
    "        return 'category'\n",
    "    elif int(item) % 2 == 1:\n",
    "        return 'other talk'\n",
    "    else:\n",
    "        return 'other page'"
   ]
  },
  {
   "cell_type": "code",
   "execution_count": 23,
   "metadata": {
    "collapsed": true
   },
   "outputs": [],
   "source": [
    "df_all['namespace_type'] = df_all['page_namespace'].apply(namespace_type)"
   ]
  },
  {
   "cell_type": "code",
   "execution_count": 24,
   "metadata": {},
   "outputs": [
    {
     "data": {
      "text/plain": [
       "article       561197\n",
       "category      182601\n",
       "other page    113498\n",
       "other talk     64678\n",
       "Name: namespace_type, dtype: int64"
      ]
     },
     "execution_count": 24,
     "metadata": {},
     "output_type": "execute_result"
    }
   ],
   "source": [
    "df_all['namespace_type'].value_counts()"
   ]
  },
  {
   "cell_type": "markdown",
   "metadata": {},
   "source": [
    "### Reverts per page per botpair\n",
    "\n",
    "This analysis is also replicated in R in reverts_per_page_R.ipynb"
   ]
  },
  {
   "cell_type": "code",
   "execution_count": 25,
   "metadata": {
    "collapsed": true
   },
   "outputs": [],
   "source": [
    "gb_lpb = df_all.groupby([\"language\", \"rev_page\", \"botpair\"])\n",
    "gb_lpb_s = df_all.groupby([\"language\", \"rev_page\", \"botpair_sorted\"])"
   ]
  },
  {
   "cell_type": "code",
   "execution_count": 26,
   "metadata": {},
   "outputs": [
    {
     "data": {
      "text/html": [
       "<div>\n",
       "<table border=\"1\" class=\"dataframe\">\n",
       "  <thead>\n",
       "    <tr style=\"text-align: right;\">\n",
       "      <th></th>\n",
       "      <th>language</th>\n",
       "      <th>rev_page</th>\n",
       "      <th>botpair</th>\n",
       "      <th>reverts_per_page_botpair</th>\n",
       "    </tr>\n",
       "  </thead>\n",
       "  <tbody>\n",
       "    <tr>\n",
       "      <th>0</th>\n",
       "      <td>de</td>\n",
       "      <td>61</td>\n",
       "      <td>RedBot rv EmausBot</td>\n",
       "      <td>1</td>\n",
       "    </tr>\n",
       "    <tr>\n",
       "      <th>1</th>\n",
       "      <td>de</td>\n",
       "      <td>81</td>\n",
       "      <td>DumZiBoT rv CarsracBot</td>\n",
       "      <td>1</td>\n",
       "    </tr>\n",
       "    <tr>\n",
       "      <th>2</th>\n",
       "      <td>de</td>\n",
       "      <td>81</td>\n",
       "      <td>MerlIwBot rv ZéroBot</td>\n",
       "      <td>1</td>\n",
       "    </tr>\n",
       "    <tr>\n",
       "      <th>3</th>\n",
       "      <td>de</td>\n",
       "      <td>82</td>\n",
       "      <td>Alecs.bot rv SieBot</td>\n",
       "      <td>1</td>\n",
       "    </tr>\n",
       "    <tr>\n",
       "      <th>4</th>\n",
       "      <td>de</td>\n",
       "      <td>101</td>\n",
       "      <td>Xqbot rv Dinamik-bot</td>\n",
       "      <td>1</td>\n",
       "    </tr>\n",
       "  </tbody>\n",
       "</table>\n",
       "</div>"
      ],
      "text/plain": [
       "  language  rev_page                 botpair  reverts_per_page_botpair\n",
       "0       de        61      RedBot rv EmausBot                         1\n",
       "1       de        81  DumZiBoT rv CarsracBot                         1\n",
       "2       de        81    MerlIwBot rv ZéroBot                         1\n",
       "3       de        82     Alecs.bot rv SieBot                         1\n",
       "4       de       101    Xqbot rv Dinamik-bot                         1"
      ]
     },
     "execution_count": 26,
     "metadata": {},
     "output_type": "execute_result"
    }
   ],
   "source": [
    "df_lpb = pd.DataFrame(gb_lpb['rev_id'].count()).reset_index().rename(columns={\"rev_id\":\"reverts_per_page_botpair\"})\n",
    "df_lpb[0:5]"
   ]
  },
  {
   "cell_type": "code",
   "execution_count": 27,
   "metadata": {},
   "outputs": [
    {
     "data": {
      "text/html": [
       "<div>\n",
       "<table border=\"1\" class=\"dataframe\">\n",
       "  <thead>\n",
       "    <tr style=\"text-align: right;\">\n",
       "      <th></th>\n",
       "      <th>language</th>\n",
       "      <th>rev_page</th>\n",
       "      <th>botpair_sorted</th>\n",
       "      <th>reverts_per_page_botpair_sorted</th>\n",
       "    </tr>\n",
       "  </thead>\n",
       "  <tbody>\n",
       "    <tr>\n",
       "      <th>0</th>\n",
       "      <td>de</td>\n",
       "      <td>61</td>\n",
       "      <td>['EmausBot', 'RedBot']</td>\n",
       "      <td>1</td>\n",
       "    </tr>\n",
       "    <tr>\n",
       "      <th>1</th>\n",
       "      <td>de</td>\n",
       "      <td>81</td>\n",
       "      <td>['CarsracBot', 'DumZiBoT']</td>\n",
       "      <td>1</td>\n",
       "    </tr>\n",
       "    <tr>\n",
       "      <th>2</th>\n",
       "      <td>de</td>\n",
       "      <td>81</td>\n",
       "      <td>['MerlIwBot', 'ZéroBot']</td>\n",
       "      <td>1</td>\n",
       "    </tr>\n",
       "    <tr>\n",
       "      <th>3</th>\n",
       "      <td>de</td>\n",
       "      <td>82</td>\n",
       "      <td>['Alecs.bot', 'SieBot']</td>\n",
       "      <td>1</td>\n",
       "    </tr>\n",
       "    <tr>\n",
       "      <th>4</th>\n",
       "      <td>de</td>\n",
       "      <td>101</td>\n",
       "      <td>['Dinamik-bot', 'Xqbot']</td>\n",
       "      <td>1</td>\n",
       "    </tr>\n",
       "  </tbody>\n",
       "</table>\n",
       "</div>"
      ],
      "text/plain": [
       "  language  rev_page              botpair_sorted  \\\n",
       "0       de        61      ['EmausBot', 'RedBot']   \n",
       "1       de        81  ['CarsracBot', 'DumZiBoT']   \n",
       "2       de        81    ['MerlIwBot', 'ZéroBot']   \n",
       "3       de        82     ['Alecs.bot', 'SieBot']   \n",
       "4       de       101    ['Dinamik-bot', 'Xqbot']   \n",
       "\n",
       "   reverts_per_page_botpair_sorted  \n",
       "0                                1  \n",
       "1                                1  \n",
       "2                                1  \n",
       "3                                1  \n",
       "4                                1  "
      ]
     },
     "execution_count": 27,
     "metadata": {},
     "output_type": "execute_result"
    }
   ],
   "source": [
    "df_lpb_s = pd.DataFrame(gb_lpb_s['rev_id'].count()).reset_index().rename(columns={\"rev_id\":\"reverts_per_page_botpair_sorted\"})\n",
    "df_lpb_s[0:5]"
   ]
  },
  {
   "cell_type": "code",
   "execution_count": 28,
   "metadata": {
    "collapsed": true
   },
   "outputs": [],
   "source": [
    "df_all = pd.merge(df_all, df_lpb, how='left',\n",
    "         left_on=[\"language\", \"rev_page\", \"botpair\"],\n",
    "         right_on=[\"language\", \"rev_page\", \"botpair\"])\n",
    "\n",
    "df_all = pd.merge(df_all, df_lpb_s, how='left',\n",
    "         left_on=[\"language\", \"rev_page\", \"botpair_sorted\"],\n",
    "         right_on=[\"language\", \"rev_page\", \"botpair_sorted\"])"
   ]
  },
  {
   "cell_type": "markdown",
   "metadata": {
    "collapsed": true
   },
   "source": [
    "### Check time to revert for negatives"
   ]
  },
  {
   "cell_type": "code",
   "execution_count": 29,
   "metadata": {},
   "outputs": [
    {
     "data": {
      "text/plain": [
       "3"
      ]
     },
     "execution_count": 29,
     "metadata": {},
     "output_type": "execute_result"
    }
   ],
   "source": [
    "len(df_all.query(\"time_to_revert_days < 0\"))\n"
   ]
  },
  {
   "cell_type": "code",
   "execution_count": 30,
   "metadata": {},
   "outputs": [
    {
     "data": {
      "text/plain": [
       "921971"
      ]
     },
     "execution_count": 30,
     "metadata": {},
     "output_type": "execute_result"
    }
   ],
   "source": [
    "len(df_all.query(\"time_to_revert_days > 0\"))\n"
   ]
  },
  {
   "cell_type": "code",
   "execution_count": 31,
   "metadata": {},
   "outputs": [
    {
     "data": {
      "text/plain": [
       "language\n",
       "de    3\n",
       "Name: rev_id, dtype: int64"
      ]
     },
     "execution_count": 31,
     "metadata": {},
     "output_type": "execute_result"
    }
   ],
   "source": [
    "df_all.query(\"time_to_revert_days < 0\").groupby(\"language\")['rev_id'].count()\n"
   ]
  },
  {
   "cell_type": "code",
   "execution_count": 32,
   "metadata": {},
   "outputs": [
    {
     "data": {
      "text/plain": [
       "language\n",
       "de     68919\n",
       "en    500553\n",
       "es     88684\n",
       "fr     96533\n",
       "ja     44990\n",
       "pt     70869\n",
       "zh     51423\n",
       "Name: rev_id, dtype: int64"
      ]
     },
     "execution_count": 32,
     "metadata": {},
     "output_type": "execute_result"
    }
   ],
   "source": [
    "df_all.query(\"time_to_revert_days > 0\").groupby(\"language\")['rev_id'].count()\n"
   ]
  },
  {
   "cell_type": "markdown",
   "metadata": {},
   "source": [
    "### Cleaning\n",
    "\n",
    "These are some weird cases from de.wikipedia.org which look to have a database error"
   ]
  },
  {
   "cell_type": "code",
   "execution_count": 33,
   "metadata": {},
   "outputs": [
    {
     "data": {
      "text/plain": [
       "921974"
      ]
     },
     "execution_count": 33,
     "metadata": {},
     "output_type": "execute_result"
    }
   ],
   "source": [
    "len(df_all)"
   ]
  },
  {
   "cell_type": "code",
   "execution_count": 34,
   "metadata": {
    "collapsed": true
   },
   "outputs": [],
   "source": [
    "remove = [113534501, 142947562, 142917006]\n",
    "df_all = df_all[~df_all['rev_id'].isin(remove)]"
   ]
  },
  {
   "cell_type": "code",
   "execution_count": 35,
   "metadata": {},
   "outputs": [
    {
     "data": {
      "text/plain": [
       "921971"
      ]
     },
     "execution_count": 35,
     "metadata": {},
     "output_type": "execute_result"
    }
   ],
   "source": [
    "len(df_all)"
   ]
  },
  {
   "cell_type": "code",
   "execution_count": null,
   "metadata": {
    "collapsed": true
   },
   "outputs": [],
   "source": []
  },
  {
   "cell_type": "markdown",
   "metadata": {},
   "source": [
    "### Final data format"
   ]
  },
  {
   "cell_type": "code",
   "execution_count": 36,
   "metadata": {},
   "outputs": [
    {
     "data": {
      "text/plain": [
       "921971"
      ]
     },
     "execution_count": 36,
     "metadata": {},
     "output_type": "execute_result"
    }
   ],
   "source": [
    "len(df_all)"
   ]
  },
  {
   "cell_type": "code",
   "execution_count": 37,
   "metadata": {},
   "outputs": [
    {
     "data": {
      "text/html": [
       "<div>\n",
       "<table border=\"1\" class=\"dataframe\">\n",
       "  <thead>\n",
       "    <tr style=\"text-align: right;\">\n",
       "      <th></th>\n",
       "      <th>0</th>\n",
       "      <th>1</th>\n",
       "    </tr>\n",
       "  </thead>\n",
       "  <tbody>\n",
       "    <tr>\n",
       "      <th>archived</th>\n",
       "      <td>False</td>\n",
       "      <td>False</td>\n",
       "    </tr>\n",
       "    <tr>\n",
       "      <th>language</th>\n",
       "      <td>zh</td>\n",
       "      <td>zh</td>\n",
       "    </tr>\n",
       "    <tr>\n",
       "      <th>page_namespace</th>\n",
       "      <td>0</td>\n",
       "      <td>0</td>\n",
       "    </tr>\n",
       "    <tr>\n",
       "      <th>rev_deleted</th>\n",
       "      <td>False</td>\n",
       "      <td>False</td>\n",
       "    </tr>\n",
       "    <tr>\n",
       "      <th>rev_id</th>\n",
       "      <td>10764032</td>\n",
       "      <td>16265305</td>\n",
       "    </tr>\n",
       "    <tr>\n",
       "      <th>rev_minor_edit</th>\n",
       "      <td>True</td>\n",
       "      <td>True</td>\n",
       "    </tr>\n",
       "    <tr>\n",
       "      <th>rev_page</th>\n",
       "      <td>796015</td>\n",
       "      <td>796015</td>\n",
       "    </tr>\n",
       "    <tr>\n",
       "      <th>rev_parent_id</th>\n",
       "      <td>1.0169e+07</td>\n",
       "      <td>1.62328e+07</td>\n",
       "    </tr>\n",
       "    <tr>\n",
       "      <th>rev_revert_offset</th>\n",
       "      <td>1</td>\n",
       "      <td>1</td>\n",
       "    </tr>\n",
       "    <tr>\n",
       "      <th>rev_sha1</th>\n",
       "      <td>r64h9ccp8u81sv76rchiqlopzvbjz7y</td>\n",
       "      <td>e19g7y6aw3j2k4yw3k6q0o3vn3f69i7</td>\n",
       "    </tr>\n",
       "    <tr>\n",
       "      <th>rev_timestamp</th>\n",
       "      <td>20090801223520</td>\n",
       "      <td>20110415051810</td>\n",
       "    </tr>\n",
       "    <tr>\n",
       "      <th>rev_user</th>\n",
       "      <td>517168</td>\n",
       "      <td>967390</td>\n",
       "    </tr>\n",
       "    <tr>\n",
       "      <th>rev_user_text</th>\n",
       "      <td>Yonidebot</td>\n",
       "      <td>Ripchip Bot</td>\n",
       "    </tr>\n",
       "    <tr>\n",
       "      <th>reverted_to_rev_id</th>\n",
       "      <td>10169029</td>\n",
       "      <td>16232774</td>\n",
       "    </tr>\n",
       "    <tr>\n",
       "      <th>reverting_archived</th>\n",
       "      <td>False</td>\n",
       "      <td>False</td>\n",
       "    </tr>\n",
       "    <tr>\n",
       "      <th>reverting_comment</th>\n",
       "      <td>機器人 修改: [[ru:Карлин, Джордж]]</td>\n",
       "      <td>r2.7.1) (機器人 修改: [[fa:جرج کارلین]]</td>\n",
       "    </tr>\n",
       "    <tr>\n",
       "      <th>reverting_deleted</th>\n",
       "      <td>False</td>\n",
       "      <td>False</td>\n",
       "    </tr>\n",
       "    <tr>\n",
       "      <th>reverting_id</th>\n",
       "      <td>11723436</td>\n",
       "      <td>16609270</td>\n",
       "    </tr>\n",
       "    <tr>\n",
       "      <th>reverting_minor_edit</th>\n",
       "      <td>True</td>\n",
       "      <td>True</td>\n",
       "    </tr>\n",
       "    <tr>\n",
       "      <th>reverting_page</th>\n",
       "      <td>796015</td>\n",
       "      <td>796015</td>\n",
       "    </tr>\n",
       "    <tr>\n",
       "      <th>reverting_parent_id</th>\n",
       "      <td>1.0764e+07</td>\n",
       "      <td>1.62653e+07</td>\n",
       "    </tr>\n",
       "    <tr>\n",
       "      <th>reverting_sha1</th>\n",
       "      <td>iidynpvgp28zim9y94kg8rx6igy0oda</td>\n",
       "      <td>o6fe72h89xuul14ezc4epmzw0fxlic5</td>\n",
       "    </tr>\n",
       "    <tr>\n",
       "      <th>reverting_timestamp</th>\n",
       "      <td>20091128162947</td>\n",
       "      <td>20110526094907</td>\n",
       "    </tr>\n",
       "    <tr>\n",
       "      <th>reverting_user</th>\n",
       "      <td>563591</td>\n",
       "      <td>891729</td>\n",
       "    </tr>\n",
       "    <tr>\n",
       "      <th>reverting_user_text</th>\n",
       "      <td>Xqbot</td>\n",
       "      <td>WikitanvirBot</td>\n",
       "    </tr>\n",
       "    <tr>\n",
       "      <th>revisions_reverted</th>\n",
       "      <td>1</td>\n",
       "      <td>1</td>\n",
       "    </tr>\n",
       "    <tr>\n",
       "      <th>namespace_type</th>\n",
       "      <td>article</td>\n",
       "      <td>article</td>\n",
       "    </tr>\n",
       "    <tr>\n",
       "      <th>reverted_timestamp_dt</th>\n",
       "      <td>2009-08-01 22:35:20</td>\n",
       "      <td>2011-04-15 05:18:10</td>\n",
       "    </tr>\n",
       "    <tr>\n",
       "      <th>reverting_timestamp_dt</th>\n",
       "      <td>2009-11-28 16:29:47</td>\n",
       "      <td>2011-05-26 09:49:07</td>\n",
       "    </tr>\n",
       "    <tr>\n",
       "      <th>time_to_revert</th>\n",
       "      <td>118 days 17:54:27</td>\n",
       "      <td>41 days 04:30:57</td>\n",
       "    </tr>\n",
       "    <tr>\n",
       "      <th>time_to_revert_hrs</th>\n",
       "      <td>2849.91</td>\n",
       "      <td>988.516</td>\n",
       "    </tr>\n",
       "    <tr>\n",
       "      <th>time_to_revert_days</th>\n",
       "      <td>118.746</td>\n",
       "      <td>41.1882</td>\n",
       "    </tr>\n",
       "    <tr>\n",
       "      <th>reverting_year</th>\n",
       "      <td>2009</td>\n",
       "      <td>2011</td>\n",
       "    </tr>\n",
       "    <tr>\n",
       "      <th>time_to_revert_days_log10</th>\n",
       "      <td>2.07462</td>\n",
       "      <td>1.61477</td>\n",
       "    </tr>\n",
       "    <tr>\n",
       "      <th>time_to_revert_hrs_log10</th>\n",
       "      <td>3.45483</td>\n",
       "      <td>2.99498</td>\n",
       "    </tr>\n",
       "    <tr>\n",
       "      <th>reverting_comment_nobracket</th>\n",
       "      <td>機器人 修改:</td>\n",
       "      <td>r2.7.1)</td>\n",
       "    </tr>\n",
       "    <tr>\n",
       "      <th>botpair</th>\n",
       "      <td>Xqbot rv Yonidebot</td>\n",
       "      <td>WikitanvirBot rv Ripchip Bot</td>\n",
       "    </tr>\n",
       "    <tr>\n",
       "      <th>botpair_sorted</th>\n",
       "      <td>['Xqbot', 'Yonidebot']</td>\n",
       "      <td>['Ripchip Bot', 'WikitanvirBot']</td>\n",
       "    </tr>\n",
       "    <tr>\n",
       "      <th>reverts_per_page_botpair</th>\n",
       "      <td>1</td>\n",
       "      <td>1</td>\n",
       "    </tr>\n",
       "    <tr>\n",
       "      <th>reverts_per_page_botpair_sorted</th>\n",
       "      <td>1</td>\n",
       "      <td>1</td>\n",
       "    </tr>\n",
       "  </tbody>\n",
       "</table>\n",
       "</div>"
      ],
      "text/plain": [
       "                                                               0  \\\n",
       "archived                                                   False   \n",
       "language                                                      zh   \n",
       "page_namespace                                                 0   \n",
       "rev_deleted                                                False   \n",
       "rev_id                                                  10764032   \n",
       "rev_minor_edit                                              True   \n",
       "rev_page                                                  796015   \n",
       "rev_parent_id                                         1.0169e+07   \n",
       "rev_revert_offset                                              1   \n",
       "rev_sha1                         r64h9ccp8u81sv76rchiqlopzvbjz7y   \n",
       "rev_timestamp                                     20090801223520   \n",
       "rev_user                                                  517168   \n",
       "rev_user_text                                          Yonidebot   \n",
       "reverted_to_rev_id                                      10169029   \n",
       "reverting_archived                                         False   \n",
       "reverting_comment                  機器人 修改: [[ru:Карлин, Джордж]]   \n",
       "reverting_deleted                                          False   \n",
       "reverting_id                                            11723436   \n",
       "reverting_minor_edit                                        True   \n",
       "reverting_page                                            796015   \n",
       "reverting_parent_id                                   1.0764e+07   \n",
       "reverting_sha1                   iidynpvgp28zim9y94kg8rx6igy0oda   \n",
       "reverting_timestamp                               20091128162947   \n",
       "reverting_user                                            563591   \n",
       "reverting_user_text                                        Xqbot   \n",
       "revisions_reverted                                             1   \n",
       "namespace_type                                           article   \n",
       "reverted_timestamp_dt                        2009-08-01 22:35:20   \n",
       "reverting_timestamp_dt                       2009-11-28 16:29:47   \n",
       "time_to_revert                                 118 days 17:54:27   \n",
       "time_to_revert_hrs                                       2849.91   \n",
       "time_to_revert_days                                      118.746   \n",
       "reverting_year                                              2009   \n",
       "time_to_revert_days_log10                                2.07462   \n",
       "time_to_revert_hrs_log10                                 3.45483   \n",
       "reverting_comment_nobracket                              機器人 修改:   \n",
       "botpair                                       Xqbot rv Yonidebot   \n",
       "botpair_sorted                            ['Xqbot', 'Yonidebot']   \n",
       "reverts_per_page_botpair                                       1   \n",
       "reverts_per_page_botpair_sorted                                1   \n",
       "\n",
       "                                                                  1  \n",
       "archived                                                      False  \n",
       "language                                                         zh  \n",
       "page_namespace                                                    0  \n",
       "rev_deleted                                                   False  \n",
       "rev_id                                                     16265305  \n",
       "rev_minor_edit                                                 True  \n",
       "rev_page                                                     796015  \n",
       "rev_parent_id                                           1.62328e+07  \n",
       "rev_revert_offset                                                 1  \n",
       "rev_sha1                            e19g7y6aw3j2k4yw3k6q0o3vn3f69i7  \n",
       "rev_timestamp                                        20110415051810  \n",
       "rev_user                                                     967390  \n",
       "rev_user_text                                           Ripchip Bot  \n",
       "reverted_to_rev_id                                         16232774  \n",
       "reverting_archived                                            False  \n",
       "reverting_comment                r2.7.1) (機器人 修改: [[fa:جرج کارلین]]  \n",
       "reverting_deleted                                             False  \n",
       "reverting_id                                               16609270  \n",
       "reverting_minor_edit                                           True  \n",
       "reverting_page                                               796015  \n",
       "reverting_parent_id                                     1.62653e+07  \n",
       "reverting_sha1                      o6fe72h89xuul14ezc4epmzw0fxlic5  \n",
       "reverting_timestamp                                  20110526094907  \n",
       "reverting_user                                               891729  \n",
       "reverting_user_text                                   WikitanvirBot  \n",
       "revisions_reverted                                                1  \n",
       "namespace_type                                              article  \n",
       "reverted_timestamp_dt                           2011-04-15 05:18:10  \n",
       "reverting_timestamp_dt                          2011-05-26 09:49:07  \n",
       "time_to_revert                                     41 days 04:30:57  \n",
       "time_to_revert_hrs                                          988.516  \n",
       "time_to_revert_days                                         41.1882  \n",
       "reverting_year                                                 2011  \n",
       "time_to_revert_days_log10                                   1.61477  \n",
       "time_to_revert_hrs_log10                                    2.99498  \n",
       "reverting_comment_nobracket                                 r2.7.1)  \n",
       "botpair                                WikitanvirBot rv Ripchip Bot  \n",
       "botpair_sorted                     ['Ripchip Bot', 'WikitanvirBot']  \n",
       "reverts_per_page_botpair                                          1  \n",
       "reverts_per_page_botpair_sorted                                   1  "
      ]
     },
     "execution_count": 37,
     "metadata": {},
     "output_type": "execute_result"
    }
   ],
   "source": [
    "df_all[0:2].transpose()"
   ]
  },
  {
   "cell_type": "markdown",
   "metadata": {
    "collapsed": true
   },
   "source": [
    "## Output to file"
   ]
  },
  {
   "cell_type": "code",
   "execution_count": 38,
   "metadata": {
    "collapsed": true
   },
   "outputs": [],
   "source": [
    "df_all.to_pickle(\"../datasets/df_all_2016.pickle\")"
   ]
  },
  {
   "cell_type": "code",
   "execution_count": 39,
   "metadata": {},
   "outputs": [
    {
     "name": "stdout",
     "output_type": "stream",
     "text": [
      "Total runtime:  6 minutes,  21 seconds\n"
     ]
    }
   ],
   "source": [
    "end = datetime.datetime.now()\n",
    "\n",
    "time_to_run = end - start\n",
    "minutes = int(time_to_run.seconds/60)\n",
    "seconds = time_to_run.seconds % 60\n",
    "print(\"Total runtime: \", minutes, \"minutes, \", seconds, \"seconds\")"
   ]
  }
 ],
 "metadata": {
  "anaconda-cloud": {},
  "kernelspec": {
   "display_name": "Python [default]",
   "language": "python",
   "name": "python3"
  },
  "language_info": {
   "codemirror_mode": {
    "name": "ipython",
    "version": 3
   },
   "file_extension": ".py",
   "mimetype": "text/x-python",
   "name": "python",
   "nbconvert_exporter": "python",
   "pygments_lexer": "ipython3",
   "version": "3.5.3"
  }
 },
 "nbformat": 4,
 "nbformat_minor": 2
}
